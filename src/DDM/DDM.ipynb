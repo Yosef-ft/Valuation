{
 "cells": [
  {
   "cell_type": "code",
   "execution_count": 13,
   "metadata": {},
   "outputs": [],
   "source": [
    "import datetime"
   ]
  },
  {
   "cell_type": "code",
   "execution_count": 14,
   "metadata": {},
   "outputs": [],
   "source": [
    "import pandas as pd\n",
    "import numpy as np\n",
    "import yfinance as yf\n",
    "from sklearn.linear_model import Ridge"
   ]
  },
  {
   "cell_type": "code",
   "execution_count": 15,
   "metadata": {},
   "outputs": [],
   "source": [
    "symbol = input(\"Enter the symbol you want to perform DDM on: \").upper()"
   ]
  },
  {
   "cell_type": "code",
   "execution_count": 16,
   "metadata": {},
   "outputs": [],
   "source": [
    "required_return = float(input(\"Enter the required rate of return as a percentage for the year: \"))\n",
    "required_return /= 100"
   ]
  },
  {
   "cell_type": "code",
   "execution_count": 17,
   "metadata": {},
   "outputs": [],
   "source": [
    "ticker = yf.Ticker(symbol)"
   ]
  },
  {
   "cell_type": "code",
   "execution_count": 18,
   "metadata": {},
   "outputs": [],
   "source": [
    "dividends = pd.DataFrame(ticker.dividends)\n",
    "dividends = dividends.groupby(dividends.index.year)['Dividends'].sum()\n",
    "dividends = pd.DataFrame(dividends).sort_index(ascending=False)"
   ]
  },
  {
   "cell_type": "code",
   "execution_count": 19,
   "metadata": {},
   "outputs": [],
   "source": [
    "growth_rate = dividends['Dividends'].pct_change().mean()"
   ]
  },
  {
   "cell_type": "code",
   "execution_count": 20,
   "metadata": {},
   "outputs": [],
   "source": [
    "dividends.drop(dividends.index[dividends.index == datetime.datetime.now().year], inplace = True)\n",
    "dividends = dividends.sort_index()\n",
    "dividends.index = pd.to_datetime(dividends.index, format='%Y')"
   ]
  },
  {
   "cell_type": "code",
   "execution_count": 21,
   "metadata": {},
   "outputs": [],
   "source": [
    "for i in range(5):\n",
    "    next_year = dividends.iloc[-1].values + (growth_rate * dividends.iloc[-1].values)\n",
    "    dividends.loc[pd.to_datetime(dividends.index.max().year + 1, format='%Y')] = next_year"
   ]
  },
  {
   "cell_type": "code",
   "execution_count": 22,
   "metadata": {},
   "outputs": [],
   "source": [
    "dividends.index = dividends.index.year\n",
    "dividends.sort_index(ascending=False, inplace=True)"
   ]
  },
  {
   "cell_type": "code",
   "execution_count": 23,
   "metadata": {},
   "outputs": [],
   "source": [
    "present_price = ticker.history(period='1d')['Close'].values\n",
    "dividends_5y = dividends.head()"
   ]
  },
  {
   "cell_type": "code",
   "execution_count": 24,
   "metadata": {},
   "outputs": [],
   "source": [
    "counter = 1\n",
    "DDM_price = 0\n",
    "for i in range(len(dividends_5y) - 1):\n",
    "    DDM_price += (dividends_5y.iloc[-1-i].values) / ((1 + required_return) ** counter)\n",
    "    counter += 1\n",
    "\n",
    "\n",
    "DDM_price += (present_price + dividends_5y.iloc[0].values) / ((1 + required_return) ** counter)"
   ]
  },
  {
   "cell_type": "code",
   "execution_count": 25,
   "metadata": {},
   "outputs": [
    {
     "name": "stdout",
     "output_type": "stream",
     "text": [
      "Overpriced\n"
     ]
    }
   ],
   "source": [
    "if present_price > DDM_price:\n",
    "    print('Overpriced')\n",
    "else:\n",
    "    print('Underpriced')"
   ]
  }
 ],
 "metadata": {
  "kernelspec": {
   "display_name": "env_valuation",
   "language": "python",
   "name": "python3"
  },
  "language_info": {
   "codemirror_mode": {
    "name": "ipython",
    "version": 3
   },
   "file_extension": ".py",
   "mimetype": "text/x-python",
   "name": "python",
   "nbconvert_exporter": "python",
   "pygments_lexer": "ipython3",
   "version": "3.12.0"
  }
 },
 "nbformat": 4,
 "nbformat_minor": 2
}
