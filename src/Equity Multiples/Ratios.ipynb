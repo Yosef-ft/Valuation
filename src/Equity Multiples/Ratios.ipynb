{
 "cells": [
  {
   "cell_type": "code",
   "execution_count": 57,
   "metadata": {},
   "outputs": [],
   "source": [
    "import pandas as pd\n",
    "import numpy as np\n",
    "import yfinance as yf"
   ]
  },
  {
   "cell_type": "markdown",
   "metadata": {},
   "source": [
    "#### Getting the data"
   ]
  },
  {
   "cell_type": "code",
   "execution_count": 58,
   "metadata": {},
   "outputs": [],
   "source": [
    "symbol = input(\"Enter the symbol you want to analyze: \")"
   ]
  },
  {
   "cell_type": "code",
   "execution_count": 59,
   "metadata": {},
   "outputs": [],
   "source": [
    "ticker = yf.Ticker(symbol)"
   ]
  },
  {
   "cell_type": "code",
   "execution_count": 60,
   "metadata": {},
   "outputs": [],
   "source": [
    "Balance_sheet = ticker.balance_sheet.transpose()\n",
    "Income_statement = ticker.income_stmt.transpose()"
   ]
  },
  {
   "cell_type": "markdown",
   "metadata": {},
   "source": [
    "#### Calculating P/E ratio\n",
    "    - using diluted EPS"
   ]
  },
  {
   "cell_type": "code",
   "execution_count": 61,
   "metadata": {},
   "outputs": [],
   "source": [
    "latest_price = float(ticker.history(period='1d')['Close'].values[-1])"
   ]
  },
  {
   "cell_type": "code",
   "execution_count": 62,
   "metadata": {},
   "outputs": [],
   "source": [
    "ratios = latest_price / Income_statement['Diluted EPS']"
   ]
  },
  {
   "cell_type": "code",
   "execution_count": 63,
   "metadata": {},
   "outputs": [],
   "source": [
    "ratios = pd.DataFrame(ratios)\n",
    "ratios.rename({'Diluted EPS': 'P/E ratio'}, axis =1, inplace=True )"
   ]
  },
  {
   "cell_type": "markdown",
   "metadata": {},
   "source": [
    "#### Calculating price/Book ratio"
   ]
  },
  {
   "cell_type": "code",
   "execution_count": 64,
   "metadata": {},
   "outputs": [],
   "source": [
    "market_capitalization = Balance_sheet['Ordinary Shares Number'] * latest_price\n",
    "# calculating net book value \n",
    "current_liabilities = Balance_sheet['Current Liabilities'] + Balance_sheet['Other Current Liabilities'] + Balance_sheet['Current Deferred Liabilities']\n",
    "non_current_liabilities = Balance_sheet['Non Current Deferred Liabilities'] + Balance_sheet['Other Non Current Liabilities'] + Balance_sheet['Non Current Deferred Liabilities']\n",
    "Balance_sheet['Total Liabilities'] = current_liabilities + non_current_liabilities\n",
    "Net_book_value = Balance_sheet['Total Assets'] - Balance_sheet['Total Liabilities'] - Balance_sheet['Total Equity Gross Minority Interest']\n"
   ]
  },
  {
   "cell_type": "code",
   "execution_count": 65,
   "metadata": {},
   "outputs": [],
   "source": [
    "ratios['Price/Book'] = market_capitalization / Net_book_value"
   ]
  },
  {
   "cell_type": "code",
   "execution_count": 66,
   "metadata": {},
   "outputs": [
    {
     "data": {
      "text/html": [
       "<div>\n",
       "<style scoped>\n",
       "    .dataframe tbody tr th:only-of-type {\n",
       "        vertical-align: middle;\n",
       "    }\n",
       "\n",
       "    .dataframe tbody tr th {\n",
       "        vertical-align: top;\n",
       "    }\n",
       "\n",
       "    .dataframe thead th {\n",
       "        text-align: right;\n",
       "    }\n",
       "</style>\n",
       "<table border=\"1\" class=\"dataframe\">\n",
       "  <thead>\n",
       "    <tr style=\"text-align: right;\">\n",
       "      <th></th>\n",
       "      <th>P/E ratio</th>\n",
       "      <th>Price/Book</th>\n",
       "    </tr>\n",
       "  </thead>\n",
       "  <tbody>\n",
       "    <tr>\n",
       "      <th>2023-06-30</th>\n",
       "      <td>45.15599</td>\n",
       "      <td>287.817969</td>\n",
       "    </tr>\n",
       "    <tr>\n",
       "      <th>2022-06-30</th>\n",
       "      <td>45.296372</td>\n",
       "      <td>142.564515</td>\n",
       "    </tr>\n",
       "    <tr>\n",
       "      <th>2021-06-30</th>\n",
       "      <td>54.299377</td>\n",
       "      <td>106.404752</td>\n",
       "    </tr>\n",
       "    <tr>\n",
       "      <th>2020-06-30</th>\n",
       "      <td>75.88715</td>\n",
       "      <td>70.009725</td>\n",
       "    </tr>\n",
       "  </tbody>\n",
       "</table>\n",
       "</div>"
      ],
      "text/plain": [
       "            P/E ratio  Price/Book\n",
       "2023-06-30   45.15599  287.817969\n",
       "2022-06-30  45.296372  142.564515\n",
       "2021-06-30  54.299377  106.404752\n",
       "2020-06-30   75.88715   70.009725"
      ]
     },
     "execution_count": 66,
     "metadata": {},
     "output_type": "execute_result"
    }
   ],
   "source": [
    "ratios"
   ]
  },
  {
   "cell_type": "markdown",
   "metadata": {},
   "source": [
    "#### Calculating Price/Sales ratio"
   ]
  },
  {
   "cell_type": "code",
   "execution_count": 67,
   "metadata": {},
   "outputs": [
    {
     "data": {
      "text/html": [
       "<div>\n",
       "<style scoped>\n",
       "    .dataframe tbody tr th:only-of-type {\n",
       "        vertical-align: middle;\n",
       "    }\n",
       "\n",
       "    .dataframe tbody tr th {\n",
       "        vertical-align: top;\n",
       "    }\n",
       "\n",
       "    .dataframe thead th {\n",
       "        text-align: right;\n",
       "    }\n",
       "</style>\n",
       "<table border=\"1\" class=\"dataframe\">\n",
       "  <thead>\n",
       "    <tr style=\"text-align: right;\">\n",
       "      <th></th>\n",
       "      <th>P/E ratio</th>\n",
       "      <th>Price/Book</th>\n",
       "      <th>Price/Sales</th>\n",
       "    </tr>\n",
       "  </thead>\n",
       "  <tbody>\n",
       "    <tr>\n",
       "      <th>2023-06-30</th>\n",
       "      <td>45.15599</td>\n",
       "      <td>287.817969</td>\n",
       "      <td>15.329738</td>\n",
       "    </tr>\n",
       "    <tr>\n",
       "      <th>2022-06-30</th>\n",
       "      <td>45.296372</td>\n",
       "      <td>142.564515</td>\n",
       "      <td>16.455283</td>\n",
       "    </tr>\n",
       "    <tr>\n",
       "      <th>2021-06-30</th>\n",
       "      <td>54.299377</td>\n",
       "      <td>106.404752</td>\n",
       "      <td>19.553032</td>\n",
       "    </tr>\n",
       "    <tr>\n",
       "      <th>2020-06-30</th>\n",
       "      <td>75.88715</td>\n",
       "      <td>70.009725</td>\n",
       "      <td>23.139948</td>\n",
       "    </tr>\n",
       "  </tbody>\n",
       "</table>\n",
       "</div>"
      ],
      "text/plain": [
       "            P/E ratio  Price/Book Price/Sales\n",
       "2023-06-30   45.15599  287.817969   15.329738\n",
       "2022-06-30  45.296372  142.564515   16.455283\n",
       "2021-06-30  54.299377  106.404752   19.553032\n",
       "2020-06-30   75.88715   70.009725   23.139948"
      ]
     },
     "execution_count": 67,
     "metadata": {},
     "output_type": "execute_result"
    }
   ],
   "source": [
    "ratios['Price/Sales'] = market_capitalization / Income_statement['Total Revenue']\n",
    "ratios"
   ]
  },
  {
   "cell_type": "markdown",
   "metadata": {},
   "source": [
    "#### calculating Dividend Yield"
   ]
  },
  {
   "cell_type": "code",
   "execution_count": 68,
   "metadata": {},
   "outputs": [],
   "source": [
    "ticker =yf.Ticker(symbol)\n",
    "Dividends = ticker.dividends"
   ]
  },
  {
   "cell_type": "code",
   "execution_count": 69,
   "metadata": {},
   "outputs": [],
   "source": [
    "Dividends = pd.DataFrame(pd.to_datetime(Dividends.index), Dividends.values ).reset_index()\n",
    "Dividends.set_index('Date', inplace=True)\n",
    "Dividends.rename({'index': 'Quarterly dividends'}, axis = 1, inplace=True)\n",
    "Dividends = Dividends.groupby(Dividends.index.year)['Quarterly dividends'].sum()\n",
    "Dividends = pd.DataFrame(Dividends)\n",
    "Dividends.rename({'Quarterly dividends' : 'Yearly dividends'}, axis=1, inplace=True)\n",
    "Dividends.sort_index(ascending=False, inplace=True)"
   ]
  },
  {
   "cell_type": "code",
   "execution_count": 70,
   "metadata": {},
   "outputs": [
    {
     "data": {
      "text/html": [
       "<div>\n",
       "<style scoped>\n",
       "    .dataframe tbody tr th:only-of-type {\n",
       "        vertical-align: middle;\n",
       "    }\n",
       "\n",
       "    .dataframe tbody tr th {\n",
       "        vertical-align: top;\n",
       "    }\n",
       "\n",
       "    .dataframe thead th {\n",
       "        text-align: right;\n",
       "    }\n",
       "</style>\n",
       "<table border=\"1\" class=\"dataframe\">\n",
       "  <thead>\n",
       "    <tr style=\"text-align: right;\">\n",
       "      <th></th>\n",
       "      <th>Dividend yields(%)</th>\n",
       "    </tr>\n",
       "    <tr>\n",
       "      <th>Date</th>\n",
       "      <th></th>\n",
       "    </tr>\n",
       "  </thead>\n",
       "  <tbody>\n",
       "    <tr>\n",
       "      <th>2024</th>\n",
       "      <td>0.343163</td>\n",
       "    </tr>\n",
       "    <tr>\n",
       "      <th>2023</th>\n",
       "      <td>0.638283</td>\n",
       "    </tr>\n",
       "    <tr>\n",
       "      <th>2022</th>\n",
       "      <td>0.581089</td>\n",
       "    </tr>\n",
       "    <tr>\n",
       "      <th>2021</th>\n",
       "      <td>0.526183</td>\n",
       "    </tr>\n",
       "    <tr>\n",
       "      <th>2020</th>\n",
       "      <td>0.478141</td>\n",
       "    </tr>\n",
       "  </tbody>\n",
       "</table>\n",
       "</div>"
      ],
      "text/plain": [
       "      Dividend yields(%)\n",
       "Date                    \n",
       "2024            0.343163\n",
       "2023            0.638283\n",
       "2022            0.581089\n",
       "2021            0.526183\n",
       "2020            0.478141"
      ]
     },
     "execution_count": 70,
     "metadata": {},
     "output_type": "execute_result"
    }
   ],
   "source": [
    "Dividends['Dividend yields(%)'] = (Dividends['Yearly dividends'] / latest_price) * 100\n",
    "Dividends.drop('Yearly dividends', axis =1, inplace=True)\n",
    "Dividends.head()"
   ]
  },
  {
   "cell_type": "code",
   "execution_count": 71,
   "metadata": {},
   "outputs": [
    {
     "data": {
      "text/html": [
       "<div>\n",
       "<style scoped>\n",
       "    .dataframe tbody tr th:only-of-type {\n",
       "        vertical-align: middle;\n",
       "    }\n",
       "\n",
       "    .dataframe tbody tr th {\n",
       "        vertical-align: top;\n",
       "    }\n",
       "\n",
       "    .dataframe thead th {\n",
       "        text-align: right;\n",
       "    }\n",
       "</style>\n",
       "<table border=\"1\" class=\"dataframe\">\n",
       "  <thead>\n",
       "    <tr style=\"text-align: right;\">\n",
       "      <th></th>\n",
       "      <th>P/E ratio</th>\n",
       "      <th>Price/Book</th>\n",
       "      <th>Price/Sales</th>\n",
       "      <th>Dividend yields(%)</th>\n",
       "    </tr>\n",
       "    <tr>\n",
       "      <th>Year</th>\n",
       "      <th></th>\n",
       "      <th></th>\n",
       "      <th></th>\n",
       "      <th></th>\n",
       "    </tr>\n",
       "  </thead>\n",
       "  <tbody>\n",
       "    <tr>\n",
       "      <th>2023</th>\n",
       "      <td>45.15599</td>\n",
       "      <td>287.817969</td>\n",
       "      <td>15.329738</td>\n",
       "      <td>0.638283</td>\n",
       "    </tr>\n",
       "    <tr>\n",
       "      <th>2022</th>\n",
       "      <td>45.296372</td>\n",
       "      <td>142.564515</td>\n",
       "      <td>16.455283</td>\n",
       "      <td>0.581089</td>\n",
       "    </tr>\n",
       "    <tr>\n",
       "      <th>2021</th>\n",
       "      <td>54.299377</td>\n",
       "      <td>106.404752</td>\n",
       "      <td>19.553032</td>\n",
       "      <td>0.526183</td>\n",
       "    </tr>\n",
       "    <tr>\n",
       "      <th>2020</th>\n",
       "      <td>75.88715</td>\n",
       "      <td>70.009725</td>\n",
       "      <td>23.139948</td>\n",
       "      <td>0.478141</td>\n",
       "    </tr>\n",
       "  </tbody>\n",
       "</table>\n",
       "</div>"
      ],
      "text/plain": [
       "      P/E ratio  Price/Book Price/Sales  Dividend yields(%)\n",
       "Year                                                       \n",
       "2023   45.15599  287.817969   15.329738            0.638283\n",
       "2022  45.296372  142.564515   16.455283            0.581089\n",
       "2021  54.299377  106.404752   19.553032            0.526183\n",
       "2020   75.88715   70.009725   23.139948            0.478141"
      ]
     },
     "execution_count": 71,
     "metadata": {},
     "output_type": "execute_result"
    }
   ],
   "source": [
    "ratios = ratios.merge(Dividends, left_on=ratios.index.year, right_on=Dividends.index)\n",
    "ratios.rename({'key_0' : 'Year'}, axis=1, inplace=True)\n",
    "ratios.set_index('Year', inplace=True)\n",
    "ratios"
   ]
  },
  {
   "cell_type": "code",
   "execution_count": 80,
   "metadata": {},
   "outputs": [],
   "source": [
    "company_name = yf.Ticker(symbol).info['longBusinessSummary'].split()[0]"
   ]
  },
  {
   "cell_type": "markdown",
   "metadata": {},
   "source": [
    "##### Save the multiples by company name"
   ]
  },
  {
   "cell_type": "code",
   "execution_count": 81,
   "metadata": {},
   "outputs": [],
   "source": [
    "ratios.to_csv(f'{company_name} multiples.csv')"
   ]
  }
 ],
 "metadata": {
  "kernelspec": {
   "display_name": "env_valuation",
   "language": "python",
   "name": "python3"
  },
  "language_info": {
   "codemirror_mode": {
    "name": "ipython",
    "version": 3
   },
   "file_extension": ".py",
   "mimetype": "text/x-python",
   "name": "python",
   "nbconvert_exporter": "python",
   "pygments_lexer": "ipython3",
   "version": "3.12.0"
  }
 },
 "nbformat": 4,
 "nbformat_minor": 2
}
