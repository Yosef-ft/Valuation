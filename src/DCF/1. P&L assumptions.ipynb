{
 "cells": [
  {
   "cell_type": "code",
   "execution_count": 1,
   "metadata": {},
   "outputs": [],
   "source": [
    "import pandas as pd\n",
    "import numpy as np\n",
    "import yfinance as yf"
   ]
  },
  {
   "cell_type": "code",
   "execution_count": 2,
   "metadata": {},
   "outputs": [],
   "source": [
    "pd.set_option('future.no_silent_downcasting', True)"
   ]
  },
  {
   "cell_type": "markdown",
   "metadata": {},
   "source": [
    "#### Getting the data"
   ]
  },
  {
   "cell_type": "code",
   "execution_count": 4,
   "metadata": {},
   "outputs": [],
   "source": [
    "symbol = input(\"Enter the symbol you want to perform DCF on: \")"
   ]
  },
  {
   "cell_type": "code",
   "execution_count": 5,
   "metadata": {},
   "outputs": [],
   "source": [
    "ticker = yf.Ticker(symbol)"
   ]
  },
  {
   "cell_type": "code",
   "execution_count": 6,
   "metadata": {},
   "outputs": [],
   "source": [
    "selected_case = int(input(\"\"\"\n",
    "Choose 3 cases:\n",
    "Case 1: Optimistic case\n",
    "Case 2: Base case\n",
    "Case 3: worst case\n",
    "Enter your choice (1-3): \"\"\"))"
   ]
  },
  {
   "cell_type": "code",
   "execution_count": 7,
   "metadata": {},
   "outputs": [],
   "source": [
    "Balance_sheet = ticker.balance_sheet.transpose()\n",
    "Income_statement = ticker.income_stmt.transpose()"
   ]
  },
  {
   "cell_type": "code",
   "execution_count": 8,
   "metadata": {},
   "outputs": [],
   "source": [
    "Income_statement['Other revenue'] = Income_statement['Total Revenue'] - Income_statement['Cost Of Revenue']"
   ]
  },
  {
   "cell_type": "code",
   "execution_count": 9,
   "metadata": {},
   "outputs": [],
   "source": [
    "Income_statement['EBT'] = Income_statement['EBIT'] - Income_statement['Interest Expense'] + Income_statement['Interest Income']"
   ]
  },
  {
   "cell_type": "code",
   "execution_count": 10,
   "metadata": {},
   "outputs": [],
   "source": [
    "Income_statement['D&A'] = Income_statement['EBITDA'] - Income_statement['EBIT']"
   ]
  },
  {
   "cell_type": "code",
   "execution_count": 11,
   "metadata": {},
   "outputs": [],
   "source": [
    "Income_statement['Taxes'] = Income_statement['EBT'] - Income_statement['Net Income']"
   ]
  },
  {
   "cell_type": "markdown",
   "metadata": {},
   "source": [
    "#### P&L assumption"
   ]
  },
  {
   "cell_type": "code",
   "execution_count": 12,
   "metadata": {},
   "outputs": [],
   "source": [
    "def forecaster(models: str, year_on_year: bool) -> pd.DataFrame:\n",
    "    \"\"\"\n",
    "    Calculate the actual and forecast values for key financial metrics.\n",
    "\n",
    "    Parameters:\n",
    "    models (str): The financial models to include in the calculation, such as \"Revenue\", \"COGS\", \"D&A\", \"Operating Expense\", and \"Interest Expense\".\n",
    "    year_on_year (bool): If True, the function will calculate the year-over-year change for each metric. If False, it will calculate the % change with respect to EBT/Revenue.\n",
    "\n",
    "    Returns:\n",
    "    pd.DataFrame: A dataframe containing the actual and forecast values for the specified financial metrics.\n",
    "\n",
    "    Notes:\n",
    "    - The \"D&A\" metric represents Depreciation and Amortization, which is the difference between EBITDA and EBIT.\n",
    "    - The function assumes that the input data is from the Income Statement.\n",
    "    \"\"\"\n",
    "    actual = pd.DataFrame(columns=sorted(list(Income_statement.index.year)))\n",
    "    forecast = pd.DataFrame(columns=[x + max(list(Income_statement.index.year)) for x in range(1,6)]).transpose()\n",
    "\n",
    "    # The use of model rather than models is as a naming convention - A shorter form\n",
    "    if models == 'Revenues':\n",
    "        revenues = pd.DataFrame(Income_statement['Operating Revenue']).rename({'Operating Revenue' : 'Revenues'},axis=1)\n",
    "    elif models == 'COGS':\n",
    "        model = 'Cost Of Revenue'\n",
    "        revenues = pd.DataFrame(Income_statement['Cost Of Revenue'])\n",
    "    else:\n",
    "        revenues = pd.DataFrame(Income_statement[models])\n",
    "    revenues.index = revenues.index.year\n",
    "    revenues = revenues.transpose()\n",
    "\n",
    "    actual_revenues = actual.copy()\n",
    "    actual_revenues = pd.concat([actual_revenues, revenues])\n",
    "    actual_revenues = actual_revenues.transpose()\n",
    "\n",
    "    # forecasts items using year on year growth: Revenues, Other revenues\n",
    "    if year_on_year:\n",
    "        actual_revenues['y-o-y growth'] = actual_revenues[models].pct_change()\n",
    "\n",
    "        if selected_case == 1:\n",
    "            if models == 'Interest Expense': # Becasuse the best case for an expense is minimum\n",
    "                forecast['y-o-y growth'] = min(actual_revenues['y-o-y growth'])\n",
    "            else:\n",
    "                forecast['y-o-y growth'] = max(actual_revenues['y-o-y growth'])\n",
    "        elif selected_case == 2:\n",
    "            forecast['y-o-y growth'] = (actual_revenues['y-o-y growth']).mean()\n",
    "        elif selected_case == 3:\n",
    "            forecast['y-o-y growth'] = (actual_revenues['y-o-y growth'].mean()) / 2\n",
    "\n",
    "        forecasted = forecast.copy()\n",
    "        forecasted[f'forecast {models}'] = actual_revenues[models].iloc[-1] * (1 + forecasted['y-o-y growth'])    \n",
    "        \n",
    "        for i in range(1, len(forecasted)):\n",
    "            forecasted.loc[forecasted.index.min() + i,f'forecast {models}'] = forecasted.loc[forecasted.index.min() + i -1, f'forecast {models}'] * (1 + forecasted['y-o-y growth'].iloc[0])\n",
    "\n",
    "        return forecasted   \n",
    "\n",
    "    # forecasts items using % of revenue/ EBIT: COGS, Depreciation, Operating Expense\n",
    "    else:\n",
    "        revenue = pd.DataFrame(Income_statement['Operating Revenue']).sort_index()\n",
    "        revenue.index = revenue.index.year\n",
    "\n",
    "\n",
    "        try: \n",
    "            if models == 'Taxes':\n",
    "                actual_revenues['% of EBT'] = actual_revenues[model] / Income_statement['EBT'].sort_index().values\n",
    "            else:\n",
    "                actual_revenues['% of revenue'] = actual_revenues[model] / revenue['Operating Revenue']    \n",
    "        except Exception as e:\n",
    "            if models == 'Taxes':\n",
    "                actual_revenues['% of EBT'] = actual_revenues[models] / Income_statement['EBT'].sort_index().values\n",
    "            else:\n",
    "                actual_revenues['% of revenue'] = actual_revenues[models] / revenue['Operating Revenue']\n",
    "\n",
    "        pct_type = 'EBT' if models == 'Taxes' else 'revenue'            \n",
    "\n",
    "        if selected_case == 1:\n",
    "            forecast[f'% of {pct_type}'] = min(actual_revenues[f'% of {pct_type}'])\n",
    "        elif selected_case == 2:\n",
    "            forecast[f'% of {pct_type}'] = (actual_revenues[f'% of {pct_type}']).mean()\n",
    "        elif selected_case == 3:\n",
    "            forecast[f'% of {pct_type}'] = (actual_revenues[f'% of {pct_type}'].mean()) / 2   \n",
    "\n",
    "        if models == 'Taxes':\n",
    "            forecasted = forecast.copy()  \n",
    "            forecasted['Taxes'] = 0 # come back after balance sheet assumptions\n",
    "        else:\n",
    "            forecasted = forecast.copy()\n",
    "            forecast_revenue = forecaster('Revenues', True)\n",
    "            forecasted[f'forecast {models}'] = forecast_revenue['forecast Revenues'] * forecasted[f'% of {pct_type}']         \n",
    "    \n",
    "        return forecasted     "
   ]
  },
  {
   "cell_type": "markdown",
   "metadata": {},
   "source": [
    "##### Modeling Revenue from sales and services"
   ]
  },
  {
   "cell_type": "code",
   "execution_count": 14,
   "metadata": {},
   "outputs": [
    {
     "data": {
      "text/html": [
       "<div>\n",
       "<style scoped>\n",
       "    .dataframe tbody tr th:only-of-type {\n",
       "        vertical-align: middle;\n",
       "    }\n",
       "\n",
       "    .dataframe tbody tr th {\n",
       "        vertical-align: top;\n",
       "    }\n",
       "\n",
       "    .dataframe thead th {\n",
       "        text-align: right;\n",
       "    }\n",
       "</style>\n",
       "<table border=\"1\" class=\"dataframe\">\n",
       "  <thead>\n",
       "    <tr style=\"text-align: right;\">\n",
       "      <th></th>\n",
       "      <th>y-o-y growth</th>\n",
       "      <th>forecast Revenues</th>\n",
       "    </tr>\n",
       "  </thead>\n",
       "  <tbody>\n",
       "    <tr>\n",
       "      <th>2024</th>\n",
       "      <td>0.141233</td>\n",
       "      <td>2.418443e+11</td>\n",
       "    </tr>\n",
       "    <tr>\n",
       "      <th>2025</th>\n",
       "      <td>0.141233</td>\n",
       "      <td>2.760007e+11</td>\n",
       "    </tr>\n",
       "    <tr>\n",
       "      <th>2026</th>\n",
       "      <td>0.141233</td>\n",
       "      <td>3.149810e+11</td>\n",
       "    </tr>\n",
       "    <tr>\n",
       "      <th>2027</th>\n",
       "      <td>0.141233</td>\n",
       "      <td>3.594667e+11</td>\n",
       "    </tr>\n",
       "    <tr>\n",
       "      <th>2028</th>\n",
       "      <td>0.141233</td>\n",
       "      <td>4.102351e+11</td>\n",
       "    </tr>\n",
       "  </tbody>\n",
       "</table>\n",
       "</div>"
      ],
      "text/plain": [
       "      y-o-y growth  forecast Revenues\n",
       "2024      0.141233       2.418443e+11\n",
       "2025      0.141233       2.760007e+11\n",
       "2026      0.141233       3.149810e+11\n",
       "2027      0.141233       3.594667e+11\n",
       "2028      0.141233       4.102351e+11"
      ]
     },
     "execution_count": 14,
     "metadata": {},
     "output_type": "execute_result"
    }
   ],
   "source": [
    "forecast_revenue = forecaster('Revenues', True)\n",
    "forecast_revenue.to_csv('Data/Forecast_Revenue.csv')\n",
    "forecast_revenue"
   ]
  },
  {
   "cell_type": "markdown",
   "metadata": {},
   "source": [
    "##### Modeling Other revenues\n"
   ]
  },
  {
   "cell_type": "code",
   "execution_count": 68,
   "metadata": {},
   "outputs": [
    {
     "data": {
      "text/html": [
       "<div>\n",
       "<style scoped>\n",
       "    .dataframe tbody tr th:only-of-type {\n",
       "        vertical-align: middle;\n",
       "    }\n",
       "\n",
       "    .dataframe tbody tr th {\n",
       "        vertical-align: top;\n",
       "    }\n",
       "\n",
       "    .dataframe thead th {\n",
       "        text-align: right;\n",
       "    }\n",
       "</style>\n",
       "<table border=\"1\" class=\"dataframe\">\n",
       "  <thead>\n",
       "    <tr style=\"text-align: right;\">\n",
       "      <th></th>\n",
       "      <th>y-o-y growth</th>\n",
       "      <th>forecast Other revenue</th>\n",
       "    </tr>\n",
       "  </thead>\n",
       "  <tbody>\n",
       "    <tr>\n",
       "      <th>2024</th>\n",
       "      <td>0.07378</td>\n",
       "      <td>1.568277e+11</td>\n",
       "    </tr>\n",
       "    <tr>\n",
       "      <th>2025</th>\n",
       "      <td>0.07378</td>\n",
       "      <td>1.683985e+11</td>\n",
       "    </tr>\n",
       "    <tr>\n",
       "      <th>2026</th>\n",
       "      <td>0.07378</td>\n",
       "      <td>1.808229e+11</td>\n",
       "    </tr>\n",
       "    <tr>\n",
       "      <th>2027</th>\n",
       "      <td>0.07378</td>\n",
       "      <td>1.941640e+11</td>\n",
       "    </tr>\n",
       "    <tr>\n",
       "      <th>2028</th>\n",
       "      <td>0.07378</td>\n",
       "      <td>2.084894e+11</td>\n",
       "    </tr>\n",
       "  </tbody>\n",
       "</table>\n",
       "</div>"
      ],
      "text/plain": [
       "      y-o-y growth  forecast Other revenue\n",
       "2024       0.07378            1.568277e+11\n",
       "2025       0.07378            1.683985e+11\n",
       "2026       0.07378            1.808229e+11\n",
       "2027       0.07378            1.941640e+11\n",
       "2028       0.07378            2.084894e+11"
      ]
     },
     "execution_count": 68,
     "metadata": {},
     "output_type": "execute_result"
    }
   ],
   "source": [
    "forecast_oth_revenue = forecaster('Other revenue',True)\n",
    "forecast_oth_revenue"
   ]
  },
  {
   "cell_type": "markdown",
   "metadata": {},
   "source": [
    "##### Modeling Cost of goods sold"
   ]
  },
  {
   "cell_type": "code",
   "execution_count": 15,
   "metadata": {},
   "outputs": [
    {
     "data": {
      "text/html": [
       "<div>\n",
       "<style scoped>\n",
       "    .dataframe tbody tr th:only-of-type {\n",
       "        vertical-align: middle;\n",
       "    }\n",
       "\n",
       "    .dataframe tbody tr th {\n",
       "        vertical-align: top;\n",
       "    }\n",
       "\n",
       "    .dataframe thead th {\n",
       "        text-align: right;\n",
       "    }\n",
       "</style>\n",
       "<table border=\"1\" class=\"dataframe\">\n",
       "  <thead>\n",
       "    <tr style=\"text-align: right;\">\n",
       "      <th></th>\n",
       "      <th>% of revenue</th>\n",
       "      <th>forecast COGS</th>\n",
       "    </tr>\n",
       "  </thead>\n",
       "  <tbody>\n",
       "    <tr>\n",
       "      <th>2024</th>\n",
       "      <td>0.314929</td>\n",
       "      <td>7.616370e+10</td>\n",
       "    </tr>\n",
       "    <tr>\n",
       "      <th>2025</th>\n",
       "      <td>0.314929</td>\n",
       "      <td>8.692051e+10</td>\n",
       "    </tr>\n",
       "    <tr>\n",
       "      <th>2026</th>\n",
       "      <td>0.314929</td>\n",
       "      <td>9.919653e+10</td>\n",
       "    </tr>\n",
       "    <tr>\n",
       "      <th>2027</th>\n",
       "      <td>0.314929</td>\n",
       "      <td>1.132063e+11</td>\n",
       "    </tr>\n",
       "    <tr>\n",
       "      <th>2028</th>\n",
       "      <td>0.314929</td>\n",
       "      <td>1.291948e+11</td>\n",
       "    </tr>\n",
       "  </tbody>\n",
       "</table>\n",
       "</div>"
      ],
      "text/plain": [
       "      % of revenue  forecast COGS\n",
       "2024      0.314929   7.616370e+10\n",
       "2025      0.314929   8.692051e+10\n",
       "2026      0.314929   9.919653e+10\n",
       "2027      0.314929   1.132063e+11\n",
       "2028      0.314929   1.291948e+11"
      ]
     },
     "execution_count": 15,
     "metadata": {},
     "output_type": "execute_result"
    }
   ],
   "source": [
    "forecast_Cogs = forecaster('COGS', False)\n",
    "forecast_Cogs.to_csv('Data/forecast_COGS.csv')\n",
    "forecast_Cogs"
   ]
  },
  {
   "cell_type": "markdown",
   "metadata": {},
   "source": [
    "##### Modeling Depreciation and Amortizaiton"
   ]
  },
  {
   "cell_type": "code",
   "execution_count": 75,
   "metadata": {},
   "outputs": [
    {
     "data": {
      "text/html": [
       "<div>\n",
       "<style scoped>\n",
       "    .dataframe tbody tr th:only-of-type {\n",
       "        vertical-align: middle;\n",
       "    }\n",
       "\n",
       "    .dataframe tbody tr th {\n",
       "        vertical-align: top;\n",
       "    }\n",
       "\n",
       "    .dataframe thead th {\n",
       "        text-align: right;\n",
       "    }\n",
       "</style>\n",
       "<table border=\"1\" class=\"dataframe\">\n",
       "  <thead>\n",
       "    <tr style=\"text-align: right;\">\n",
       "      <th></th>\n",
       "      <th>% of revenue</th>\n",
       "      <th>forecast D&amp;A</th>\n",
       "    </tr>\n",
       "  </thead>\n",
       "  <tbody>\n",
       "    <tr>\n",
       "      <th>2024</th>\n",
       "      <td>0.037167</td>\n",
       "      <td>8.432419e+09</td>\n",
       "    </tr>\n",
       "    <tr>\n",
       "      <th>2025</th>\n",
       "      <td>0.037167</td>\n",
       "      <td>9.027886e+09</td>\n",
       "    </tr>\n",
       "    <tr>\n",
       "      <th>2026</th>\n",
       "      <td>0.037167</td>\n",
       "      <td>9.665403e+09</td>\n",
       "    </tr>\n",
       "    <tr>\n",
       "      <th>2027</th>\n",
       "      <td>0.037167</td>\n",
       "      <td>1.034794e+10</td>\n",
       "    </tr>\n",
       "    <tr>\n",
       "      <th>2028</th>\n",
       "      <td>0.037167</td>\n",
       "      <td>1.107867e+10</td>\n",
       "    </tr>\n",
       "  </tbody>\n",
       "</table>\n",
       "</div>"
      ],
      "text/plain": [
       "      % of revenue  forecast D&A\n",
       "2024      0.037167  8.432419e+09\n",
       "2025      0.037167  9.027886e+09\n",
       "2026      0.037167  9.665403e+09\n",
       "2027      0.037167  1.034794e+10\n",
       "2028      0.037167  1.107867e+10"
      ]
     },
     "execution_count": 75,
     "metadata": {},
     "output_type": "execute_result"
    }
   ],
   "source": [
    "forecast_Depreciation = forecaster('D&A', False)\n",
    "forecast_Depreciation"
   ]
  },
  {
   "cell_type": "markdown",
   "metadata": {},
   "source": [
    "##### Modeling Operating Expense"
   ]
  },
  {
   "cell_type": "code",
   "execution_count": 71,
   "metadata": {},
   "outputs": [
    {
     "data": {
      "text/html": [
       "<div>\n",
       "<style scoped>\n",
       "    .dataframe tbody tr th:only-of-type {\n",
       "        vertical-align: middle;\n",
       "    }\n",
       "\n",
       "    .dataframe tbody tr th {\n",
       "        vertical-align: top;\n",
       "    }\n",
       "\n",
       "    .dataframe thead th {\n",
       "        text-align: right;\n",
       "    }\n",
       "</style>\n",
       "<table border=\"1\" class=\"dataframe\">\n",
       "  <thead>\n",
       "    <tr style=\"text-align: right;\">\n",
       "      <th></th>\n",
       "      <th>% of revenue</th>\n",
       "      <th>forecast Operating Expense</th>\n",
       "    </tr>\n",
       "  </thead>\n",
       "  <tbody>\n",
       "    <tr>\n",
       "      <th>2024</th>\n",
       "      <td>0.139469</td>\n",
       "      <td>3.164266e+10</td>\n",
       "    </tr>\n",
       "    <tr>\n",
       "      <th>2025</th>\n",
       "      <td>0.139469</td>\n",
       "      <td>3.387716e+10</td>\n",
       "    </tr>\n",
       "    <tr>\n",
       "      <th>2026</th>\n",
       "      <td>0.139469</td>\n",
       "      <td>3.626944e+10</td>\n",
       "    </tr>\n",
       "    <tr>\n",
       "      <th>2027</th>\n",
       "      <td>0.139469</td>\n",
       "      <td>3.883065e+10</td>\n",
       "    </tr>\n",
       "    <tr>\n",
       "      <th>2028</th>\n",
       "      <td>0.139469</td>\n",
       "      <td>4.157273e+10</td>\n",
       "    </tr>\n",
       "  </tbody>\n",
       "</table>\n",
       "</div>"
      ],
      "text/plain": [
       "      % of revenue  forecast Operating Expense\n",
       "2024      0.139469                3.164266e+10\n",
       "2025      0.139469                3.387716e+10\n",
       "2026      0.139469                3.626944e+10\n",
       "2027      0.139469                3.883065e+10\n",
       "2028      0.139469                4.157273e+10"
      ]
     },
     "execution_count": 71,
     "metadata": {},
     "output_type": "execute_result"
    }
   ],
   "source": [
    "forecast_Expense = forecaster('Operating Expense', False)\n",
    "forecast_Expense"
   ]
  },
  {
   "cell_type": "markdown",
   "metadata": {},
   "source": [
    "##### Modeling Interest Expense"
   ]
  },
  {
   "cell_type": "code",
   "execution_count": 72,
   "metadata": {},
   "outputs": [
    {
     "data": {
      "text/html": [
       "<div>\n",
       "<style scoped>\n",
       "    .dataframe tbody tr th:only-of-type {\n",
       "        vertical-align: middle;\n",
       "    }\n",
       "\n",
       "    .dataframe tbody tr th {\n",
       "        vertical-align: top;\n",
       "    }\n",
       "\n",
       "    .dataframe thead th {\n",
       "        text-align: right;\n",
       "    }\n",
       "</style>\n",
       "<table border=\"1\" class=\"dataframe\">\n",
       "  <thead>\n",
       "    <tr style=\"text-align: right;\">\n",
       "      <th></th>\n",
       "      <th>y-o-y growth</th>\n",
       "      <th>forecast Interest Expense</th>\n",
       "    </tr>\n",
       "  </thead>\n",
       "  <tbody>\n",
       "    <tr>\n",
       "      <th>2024</th>\n",
       "      <td>-0.04354</td>\n",
       "      <td>1.882314e+09</td>\n",
       "    </tr>\n",
       "    <tr>\n",
       "      <th>2025</th>\n",
       "      <td>-0.04354</td>\n",
       "      <td>1.800358e+09</td>\n",
       "    </tr>\n",
       "    <tr>\n",
       "      <th>2026</th>\n",
       "      <td>-0.04354</td>\n",
       "      <td>1.721971e+09</td>\n",
       "    </tr>\n",
       "    <tr>\n",
       "      <th>2027</th>\n",
       "      <td>-0.04354</td>\n",
       "      <td>1.646997e+09</td>\n",
       "    </tr>\n",
       "    <tr>\n",
       "      <th>2028</th>\n",
       "      <td>-0.04354</td>\n",
       "      <td>1.575287e+09</td>\n",
       "    </tr>\n",
       "  </tbody>\n",
       "</table>\n",
       "</div>"
      ],
      "text/plain": [
       "      y-o-y growth  forecast Interest Expense\n",
       "2024      -0.04354               1.882314e+09\n",
       "2025      -0.04354               1.800358e+09\n",
       "2026      -0.04354               1.721971e+09\n",
       "2027      -0.04354               1.646997e+09\n",
       "2028      -0.04354               1.575287e+09"
      ]
     },
     "execution_count": 72,
     "metadata": {},
     "output_type": "execute_result"
    }
   ],
   "source": [
    "forecast_Interest = forecaster('Interest Expense', True)\n",
    "forecast_Interest"
   ]
  },
  {
   "cell_type": "markdown",
   "metadata": {},
   "source": [
    "##### Modeling Taxes"
   ]
  },
  {
   "cell_type": "code",
   "execution_count": 73,
   "metadata": {},
   "outputs": [
    {
     "data": {
      "text/html": [
       "<div>\n",
       "<style scoped>\n",
       "    .dataframe tbody tr th:only-of-type {\n",
       "        vertical-align: middle;\n",
       "    }\n",
       "\n",
       "    .dataframe tbody tr th {\n",
       "        vertical-align: top;\n",
       "    }\n",
       "\n",
       "    .dataframe thead th {\n",
       "        text-align: right;\n",
       "    }\n",
       "</style>\n",
       "<table border=\"1\" class=\"dataframe\">\n",
       "  <thead>\n",
       "    <tr style=\"text-align: right;\">\n",
       "      <th></th>\n",
       "      <th>% of EBT</th>\n",
       "      <th>Taxes</th>\n",
       "    </tr>\n",
       "  </thead>\n",
       "  <tbody>\n",
       "    <tr>\n",
       "      <th>2024</th>\n",
       "      <td>0.092123</td>\n",
       "      <td>0</td>\n",
       "    </tr>\n",
       "    <tr>\n",
       "      <th>2025</th>\n",
       "      <td>0.092123</td>\n",
       "      <td>0</td>\n",
       "    </tr>\n",
       "    <tr>\n",
       "      <th>2026</th>\n",
       "      <td>0.092123</td>\n",
       "      <td>0</td>\n",
       "    </tr>\n",
       "    <tr>\n",
       "      <th>2027</th>\n",
       "      <td>0.092123</td>\n",
       "      <td>0</td>\n",
       "    </tr>\n",
       "    <tr>\n",
       "      <th>2028</th>\n",
       "      <td>0.092123</td>\n",
       "      <td>0</td>\n",
       "    </tr>\n",
       "  </tbody>\n",
       "</table>\n",
       "</div>"
      ],
      "text/plain": [
       "      % of EBT  Taxes\n",
       "2024  0.092123      0\n",
       "2025  0.092123      0\n",
       "2026  0.092123      0\n",
       "2027  0.092123      0\n",
       "2028  0.092123      0"
      ]
     },
     "execution_count": 73,
     "metadata": {},
     "output_type": "execute_result"
    }
   ],
   "source": [
    "forecast_taxes = forecaster('Taxes', False)\n",
    "forecast_taxes"
   ]
  }
 ],
 "metadata": {
  "kernelspec": {
   "display_name": "env_valuation",
   "language": "python",
   "name": "python3"
  },
  "language_info": {
   "codemirror_mode": {
    "name": "ipython",
    "version": 3
   },
   "file_extension": ".py",
   "mimetype": "text/x-python",
   "name": "python",
   "nbconvert_exporter": "python",
   "pygments_lexer": "ipython3",
   "version": "3.12.0"
  }
 },
 "nbformat": 4,
 "nbformat_minor": 2
}
