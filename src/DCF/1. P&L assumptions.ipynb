{
 "cells": [
  {
   "cell_type": "code",
   "execution_count": 1,
   "metadata": {},
   "outputs": [],
   "source": [
    "import pandas as pd\n",
    "import numpy as np\n",
    "import yfinance as yf"
   ]
  },
  {
   "cell_type": "code",
   "execution_count": 2,
   "metadata": {},
   "outputs": [],
   "source": [
    "pd.set_option('future.no_silent_downcasting', True)"
   ]
  },
  {
   "cell_type": "markdown",
   "metadata": {},
   "source": [
    "#### Getting the data"
   ]
  },
  {
   "cell_type": "code",
   "execution_count": 3,
   "metadata": {},
   "outputs": [],
   "source": [
    "symbol = input(\"Enter the symbol you want to perform DCF on: \")"
   ]
  },
  {
   "cell_type": "code",
   "execution_count": 4,
   "metadata": {},
   "outputs": [],
   "source": [
    "ticker = yf.Ticker(symbol)"
   ]
  },
  {
   "cell_type": "code",
   "execution_count": 5,
   "metadata": {},
   "outputs": [],
   "source": [
    "selected_case = int(input(\"\"\"\n",
    "Choose 3 cases:\n",
    "Case 1: Optimistic case\n",
    "Case 2: Base case\n",
    "Case 3: worst case\n",
    "Enter your choice (1-3): \"\"\"))"
   ]
  },
  {
   "cell_type": "code",
   "execution_count": 6,
   "metadata": {},
   "outputs": [],
   "source": [
    "Balance_sheet = ticker.balance_sheet.transpose()\n",
    "Income_statement = ticker.income_stmt.transpose()"
   ]
  },
  {
   "cell_type": "code",
   "execution_count": 10,
   "metadata": {},
   "outputs": [],
   "source": [
    "Income_statement['Other revenue'] = Income_statement['Total Revenue'] - Income_statement['Cost Of Revenue']"
   ]
  },
  {
   "cell_type": "markdown",
   "metadata": {},
   "source": [
    "#### P&L assumption"
   ]
  },
  {
   "cell_type": "code",
   "execution_count": 7,
   "metadata": {},
   "outputs": [],
   "source": [
    "def forecaster(models: str, year_on_year: bool) -> pd.DataFrame:\n",
    "\n",
    "    actual = pd.DataFrame(columns=sorted(list(Income_statement.index.year)))\n",
    "    forecast = pd.DataFrame(columns=[x + max(list(Income_statement.index.year)) for x in range(1,6)]).transpose()\n",
    "\n",
    "    if models == 'Revenues':\n",
    "        revenues = pd.DataFrame(Income_statement['Operating Revenue']).rename({'Operating Revenue' : 'Revenues'},axis=1)\n",
    "    elif models == 'COGS':\n",
    "        model = 'Cost Of Revenue'\n",
    "        revenues = pd.DataFrame(Income_statement['Cost Of Revenue'])\n",
    "    else:\n",
    "        revenues = pd.DataFrame(Income_statement[models])\n",
    "    revenues.index = revenues.index.year\n",
    "    revenues = revenues.transpose()\n",
    "\n",
    "    actual_revenues = actual.copy()\n",
    "    actual_revenues = pd.concat([actual_revenues, revenues])\n",
    "    actual_revenues = actual_revenues.transpose()\n",
    "\n",
    "    # forecasts items using year on year growth: Revenues, Other revenues\n",
    "    if year_on_year:\n",
    "        actual_revenues['y-o-y growth'] = actual_revenues[models].pct_change()\n",
    "\n",
    "        if selected_case == 1:\n",
    "            forecast['y-o-y growth'] = max(actual_revenues['y-o-y growth'])\n",
    "        elif selected_case == 2:\n",
    "            forecast['y-o-y growth'] = (actual_revenues['y-o-y growth']).mean()\n",
    "        elif selected_case == 3:\n",
    "            forecast['y-o-y growth'] = (actual_revenues['y-o-y growth'].mean()) / 2\n",
    "\n",
    "        forecasted = forecast.copy()\n",
    "        forecasted[f'forecast {models}'] = actual_revenues[models].iloc[-1] * (1 + forecasted['y-o-y growth'])    \n",
    "        \n",
    "        for i in range(1, len(forecasted)):\n",
    "            forecasted.loc[forecasted.index.min() + i,f'forecast {models}'] = forecasted.loc[forecasted.index.min() + i -1, f'forecast {models}'] * (1 + forecasted['y-o-y growth'].iloc[0])\n",
    "\n",
    "        return forecasted   \n",
    "\n",
    "    # forecasts items using % of revenue: COGS\n",
    "    else:\n",
    "        revenue = pd.DataFrame(Income_statement['Operating Revenue']).sort_index()\n",
    "        revenue.index = revenue.index.year\n",
    "        actual_revenues['% of revenue'] = actual_revenues[model] / revenue['Operating Revenue']    \n",
    "        \n",
    "        if selected_case == 1:\n",
    "            forecast['% of revenue'] = max(actual_revenues['% of revenue'])\n",
    "        elif selected_case == 2:\n",
    "            forecast['% of revenue'] = (actual_revenues['% of revenue']).mean()\n",
    "        elif selected_case == 3:\n",
    "            forecast['% of revenue'] = (actual_revenues['% of revenue'].mean()) / 2   \n",
    "\n",
    "        forecasted = forecast.copy()\n",
    "        forecast_revenue = forecaster('Revenues', True)\n",
    "        forecasted[f'forecast {models}'] = forecast_revenue['forecast Revenues'] * forecasted['% of revenue']         \n",
    "    \n",
    "        return forecasted     "
   ]
  },
  {
   "cell_type": "markdown",
   "metadata": {},
   "source": [
    "##### Modeling Revenue from sales and services"
   ]
  },
  {
   "cell_type": "code",
   "execution_count": 13,
   "metadata": {},
   "outputs": [
    {
     "data": {
      "text/html": [
       "<div>\n",
       "<style scoped>\n",
       "    .dataframe tbody tr th:only-of-type {\n",
       "        vertical-align: middle;\n",
       "    }\n",
       "\n",
       "    .dataframe tbody tr th {\n",
       "        vertical-align: top;\n",
       "    }\n",
       "\n",
       "    .dataframe thead th {\n",
       "        text-align: right;\n",
       "    }\n",
       "</style>\n",
       "<table border=\"1\" class=\"dataframe\">\n",
       "  <thead>\n",
       "    <tr style=\"text-align: right;\">\n",
       "      <th></th>\n",
       "      <th>y-o-y growth</th>\n",
       "      <th>forecast Revenues</th>\n",
       "    </tr>\n",
       "  </thead>\n",
       "  <tbody>\n",
       "    <tr>\n",
       "      <th>2024</th>\n",
       "      <td>0.070616</td>\n",
       "      <td>2.268797e+11</td>\n",
       "    </tr>\n",
       "    <tr>\n",
       "      <th>2025</th>\n",
       "      <td>0.070616</td>\n",
       "      <td>2.429011e+11</td>\n",
       "    </tr>\n",
       "    <tr>\n",
       "      <th>2026</th>\n",
       "      <td>0.070616</td>\n",
       "      <td>2.600539e+11</td>\n",
       "    </tr>\n",
       "    <tr>\n",
       "      <th>2027</th>\n",
       "      <td>0.070616</td>\n",
       "      <td>2.784180e+11</td>\n",
       "    </tr>\n",
       "    <tr>\n",
       "      <th>2028</th>\n",
       "      <td>0.070616</td>\n",
       "      <td>2.980788e+11</td>\n",
       "    </tr>\n",
       "  </tbody>\n",
       "</table>\n",
       "</div>"
      ],
      "text/plain": [
       "      y-o-y growth  forecast Revenues\n",
       "2024      0.070616       2.268797e+11\n",
       "2025      0.070616       2.429011e+11\n",
       "2026      0.070616       2.600539e+11\n",
       "2027      0.070616       2.784180e+11\n",
       "2028      0.070616       2.980788e+11"
      ]
     },
     "execution_count": 13,
     "metadata": {},
     "output_type": "execute_result"
    }
   ],
   "source": [
    "forecast_revenue = forecaster('Revenues', True)\n",
    "forecast_revenue"
   ]
  },
  {
   "cell_type": "markdown",
   "metadata": {},
   "source": [
    "##### Modeling Other revenues\n"
   ]
  },
  {
   "cell_type": "code",
   "execution_count": 11,
   "metadata": {},
   "outputs": [
    {
     "data": {
      "text/html": [
       "<div>\n",
       "<style scoped>\n",
       "    .dataframe tbody tr th:only-of-type {\n",
       "        vertical-align: middle;\n",
       "    }\n",
       "\n",
       "    .dataframe tbody tr th {\n",
       "        vertical-align: top;\n",
       "    }\n",
       "\n",
       "    .dataframe thead th {\n",
       "        text-align: right;\n",
       "    }\n",
       "</style>\n",
       "<table border=\"1\" class=\"dataframe\">\n",
       "  <thead>\n",
       "    <tr style=\"text-align: right;\">\n",
       "      <th></th>\n",
       "      <th>y-o-y growth</th>\n",
       "      <th>forecast Other revenue</th>\n",
       "    </tr>\n",
       "  </thead>\n",
       "  <tbody>\n",
       "    <tr>\n",
       "      <th>2024</th>\n",
       "      <td>0.07378</td>\n",
       "      <td>1.568277e+11</td>\n",
       "    </tr>\n",
       "    <tr>\n",
       "      <th>2025</th>\n",
       "      <td>0.07378</td>\n",
       "      <td>1.683985e+11</td>\n",
       "    </tr>\n",
       "    <tr>\n",
       "      <th>2026</th>\n",
       "      <td>0.07378</td>\n",
       "      <td>1.808229e+11</td>\n",
       "    </tr>\n",
       "    <tr>\n",
       "      <th>2027</th>\n",
       "      <td>0.07378</td>\n",
       "      <td>1.941640e+11</td>\n",
       "    </tr>\n",
       "    <tr>\n",
       "      <th>2028</th>\n",
       "      <td>0.07378</td>\n",
       "      <td>2.084894e+11</td>\n",
       "    </tr>\n",
       "  </tbody>\n",
       "</table>\n",
       "</div>"
      ],
      "text/plain": [
       "      y-o-y growth  forecast Other revenue\n",
       "2024       0.07378            1.568277e+11\n",
       "2025       0.07378            1.683985e+11\n",
       "2026       0.07378            1.808229e+11\n",
       "2027       0.07378            1.941640e+11\n",
       "2028       0.07378            2.084894e+11"
      ]
     },
     "execution_count": 11,
     "metadata": {},
     "output_type": "execute_result"
    }
   ],
   "source": [
    "forecast_oth_revenue = forecaster('Other revenue',True)\n",
    "forecast_oth_revenue"
   ]
  },
  {
   "cell_type": "markdown",
   "metadata": {},
   "source": [
    "##### Modeling Cost of goods sold"
   ]
  },
  {
   "cell_type": "code",
   "execution_count": 14,
   "metadata": {},
   "outputs": [
    {
     "data": {
      "text/html": [
       "<div>\n",
       "<style scoped>\n",
       "    .dataframe tbody tr th:only-of-type {\n",
       "        vertical-align: middle;\n",
       "    }\n",
       "\n",
       "    .dataframe tbody tr th {\n",
       "        vertical-align: top;\n",
       "    }\n",
       "\n",
       "    .dataframe thead th {\n",
       "        text-align: right;\n",
       "    }\n",
       "</style>\n",
       "<table border=\"1\" class=\"dataframe\">\n",
       "  <thead>\n",
       "    <tr style=\"text-align: right;\">\n",
       "      <th></th>\n",
       "      <th>% of revenue</th>\n",
       "      <th>forecast COGS</th>\n",
       "    </tr>\n",
       "  </thead>\n",
       "  <tbody>\n",
       "    <tr>\n",
       "      <th>2024</th>\n",
       "      <td>0.157464</td>\n",
       "      <td>3.572545e+10</td>\n",
       "    </tr>\n",
       "    <tr>\n",
       "      <th>2025</th>\n",
       "      <td>0.157464</td>\n",
       "      <td>3.824825e+10</td>\n",
       "    </tr>\n",
       "    <tr>\n",
       "      <th>2026</th>\n",
       "      <td>0.157464</td>\n",
       "      <td>4.094920e+10</td>\n",
       "    </tr>\n",
       "    <tr>\n",
       "      <th>2027</th>\n",
       "      <td>0.157464</td>\n",
       "      <td>4.384089e+10</td>\n",
       "    </tr>\n",
       "    <tr>\n",
       "      <th>2028</th>\n",
       "      <td>0.157464</td>\n",
       "      <td>4.693677e+10</td>\n",
       "    </tr>\n",
       "  </tbody>\n",
       "</table>\n",
       "</div>"
      ],
      "text/plain": [
       "      % of revenue  forecast COGS\n",
       "2024      0.157464   3.572545e+10\n",
       "2025      0.157464   3.824825e+10\n",
       "2026      0.157464   4.094920e+10\n",
       "2027      0.157464   4.384089e+10\n",
       "2028      0.157464   4.693677e+10"
      ]
     },
     "execution_count": 14,
     "metadata": {},
     "output_type": "execute_result"
    }
   ],
   "source": [
    "forecast_Cogs = forecaster('COGS', False)\n",
    "forecast_Cogs"
   ]
  },
  {
   "cell_type": "code",
   "execution_count": null,
   "metadata": {},
   "outputs": [],
   "source": []
  }
 ],
 "metadata": {
  "kernelspec": {
   "display_name": "env_valuation",
   "language": "python",
   "name": "python3"
  },
  "language_info": {
   "codemirror_mode": {
    "name": "ipython",
    "version": 3
   },
   "file_extension": ".py",
   "mimetype": "text/x-python",
   "name": "python",
   "nbconvert_exporter": "python",
   "pygments_lexer": "ipython3",
   "version": "3.12.0"
  }
 },
 "nbformat": 4,
 "nbformat_minor": 2
}
