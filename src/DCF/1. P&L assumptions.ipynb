{
 "cells": [
  {
   "cell_type": "code",
   "execution_count": 1,
   "metadata": {},
   "outputs": [],
   "source": [
    "import pandas as pd\n",
    "import numpy as np\n",
    "import yfinance as yf"
   ]
  },
  {
   "cell_type": "code",
   "execution_count": 196,
   "metadata": {},
   "outputs": [],
   "source": [
    "pd.set_option('future.no_silent_downcasting', True)"
   ]
  },
  {
   "cell_type": "markdown",
   "metadata": {},
   "source": [
    "#### Getting the data"
   ]
  },
  {
   "cell_type": "code",
   "execution_count": 7,
   "metadata": {},
   "outputs": [],
   "source": [
    "symbol = input(\"Enter the symbol you want to perform DCF on: \")"
   ]
  },
  {
   "cell_type": "code",
   "execution_count": 8,
   "metadata": {},
   "outputs": [],
   "source": [
    "ticker = yf.Ticker(symbol)"
   ]
  },
  {
   "cell_type": "code",
   "execution_count": 6,
   "metadata": {},
   "outputs": [],
   "source": [
    "selected_case = int(input(\"\"\"\n",
    "Choose 3 cases:\n",
    "Case 1: Optimistic case\n",
    "Case 2: Base case\n",
    "Case 3: worst case\n",
    "Enter your choice (1-3): \"\"\"))"
   ]
  },
  {
   "cell_type": "code",
   "execution_count": 9,
   "metadata": {},
   "outputs": [],
   "source": [
    "Balance_sheet = ticker.balance_sheet.transpose()\n",
    "Income_statement = ticker.income_stmt.transpose()"
   ]
  },
  {
   "cell_type": "markdown",
   "metadata": {},
   "source": [
    "#### P&L assumption"
   ]
  },
  {
   "cell_type": "code",
   "execution_count": 345,
   "metadata": {},
   "outputs": [],
   "source": [
    "def forecaster(models: str, year_on_year: bool) -> pd.DataFrame:\n",
    "    if models == 'Other revenue':\n",
    "        revenues = pd.DataFrame(Income_statement['Other revenue'])\n",
    "    elif models == 'Revenues':\n",
    "        revenues = pd.DataFrame(Income_statement['Operating Revenue']).rename({'Operating Revenue' : 'Revenues'},axis=1)\n",
    "    revenues.index = revenues.index.year\n",
    "    revenues = revenues.transpose()\n",
    "\n",
    "    actual_revenues = actual.copy()\n",
    "    actual_revenues = pd.concat([actual_revenues, revenues])\n",
    "    actual_revenues = actual_revenues.transpose()\n",
    "\n",
    "    actual_revenues['y-o-y growth'] = actual_revenues[models].pct_change()\n",
    "\n",
    "    if selected_case == 1:\n",
    "        forecast['y-o-y growth'] = max(actual_revenues['y-o-y growth'])\n",
    "    elif selected_case == 2:\n",
    "        forecast['y-o-y growth'] = (actual_revenues['y-o-y growth']).mean()\n",
    "    elif selected_case == 3:\n",
    "        forecast['y-o-y growth'] = (actual_revenues['y-o-y growth'].mean()) / 2\n",
    "\n",
    "    forecast_revenue = forecast.copy()\n",
    "    forecast_revenue[f'forecast {models}'] = actual_revenues[models].iloc[-1] * (1 + forecast_revenue['y-o-y growth'])    \n",
    "     \n",
    "    for i in range(1, len(forecast_revenue)):\n",
    "        forecast_revenue.loc[forecast_revenue.index.min() + i,f'forecast {models}'] = forecast_revenue.loc[forecast_revenue.index.min() + i -1, f'forecast {models}'] * (1 + forecast_revenue['y-o-y growth'].iloc[0])\n",
    "    \n",
    "    return forecast_revenue     "
   ]
  },
  {
   "cell_type": "markdown",
   "metadata": {},
   "source": [
    "##### Modelling Revenue from sales and services"
   ]
  },
  {
   "cell_type": "code",
   "execution_count": 324,
   "metadata": {},
   "outputs": [],
   "source": [
    "actual = pd.DataFrame(columns=sorted(list(Income_statement.index.year)))"
   ]
  },
  {
   "cell_type": "code",
   "execution_count": 325,
   "metadata": {},
   "outputs": [],
   "source": [
    "forecast = pd.DataFrame(columns=[x + max(list(Income_statement.index.year)) for x in range(1,6)]).transpose()"
   ]
  },
  {
   "cell_type": "code",
   "execution_count": 326,
   "metadata": {},
   "outputs": [],
   "source": [
    "revenues = pd.DataFrame(Income_statement['Operating Revenue']).rename({'Operating Revenue' : 'Revenues'},axis=1)\n",
    "revenues.index = revenues.index.year\n",
    "revenues = revenues.transpose()"
   ]
  },
  {
   "cell_type": "code",
   "execution_count": 327,
   "metadata": {},
   "outputs": [],
   "source": [
    "actual_revenues = actual.copy()\n",
    "actual_revenues = pd.concat([actual_revenues, revenues])\n",
    "actual_revenues = actual_revenues.transpose()"
   ]
  },
  {
   "cell_type": "code",
   "execution_count": 328,
   "metadata": {},
   "outputs": [
    {
     "data": {
      "text/html": [
       "<div>\n",
       "<style scoped>\n",
       "    .dataframe tbody tr th:only-of-type {\n",
       "        vertical-align: middle;\n",
       "    }\n",
       "\n",
       "    .dataframe tbody tr th {\n",
       "        vertical-align: top;\n",
       "    }\n",
       "\n",
       "    .dataframe thead th {\n",
       "        text-align: right;\n",
       "    }\n",
       "</style>\n",
       "<table border=\"1\" class=\"dataframe\">\n",
       "  <thead>\n",
       "    <tr style=\"text-align: right;\">\n",
       "      <th></th>\n",
       "      <th>Revenues</th>\n",
       "      <th>y-o-y growth</th>\n",
       "    </tr>\n",
       "  </thead>\n",
       "  <tbody>\n",
       "    <tr>\n",
       "      <th>2020</th>\n",
       "      <td>143015000000.0</td>\n",
       "      <td>NaN</td>\n",
       "    </tr>\n",
       "    <tr>\n",
       "      <th>2021</th>\n",
       "      <td>168088000000.0</td>\n",
       "      <td>0.175317</td>\n",
       "    </tr>\n",
       "    <tr>\n",
       "      <th>2022</th>\n",
       "      <td>198270000000.0</td>\n",
       "      <td>0.179561</td>\n",
       "    </tr>\n",
       "    <tr>\n",
       "      <th>2023</th>\n",
       "      <td>211915000000.0</td>\n",
       "      <td>0.06882</td>\n",
       "    </tr>\n",
       "  </tbody>\n",
       "</table>\n",
       "</div>"
      ],
      "text/plain": [
       "            Revenues y-o-y growth\n",
       "2020  143015000000.0          NaN\n",
       "2021  168088000000.0     0.175317\n",
       "2022  198270000000.0     0.179561\n",
       "2023  211915000000.0      0.06882"
      ]
     },
     "execution_count": 328,
     "metadata": {},
     "output_type": "execute_result"
    }
   ],
   "source": [
    "actual_revenues['y-o-y growth'] = actual_revenues['Revenues'].pct_change()\n",
    "actual_revenues"
   ]
  },
  {
   "cell_type": "code",
   "execution_count": 329,
   "metadata": {},
   "outputs": [],
   "source": [
    "if selected_case == 1:\n",
    "    forecast['y-o-y growth'] = max(actual_revenues['y-o-y growth'])\n",
    "elif selected_case == 2:\n",
    "    forecast['y-o-y growth'] = (actual_revenues['y-o-y growth']).mean()\n",
    "elif selected_case == 3:\n",
    "    forecast['y-o-y growth'] = (actual_revenues['y-o-y growth'].mean()) / 2"
   ]
  },
  {
   "cell_type": "code",
   "execution_count": 331,
   "metadata": {},
   "outputs": [],
   "source": [
    "forecast_revenue = forecast.copy()\n",
    "forecast_revenue['forecast Revenue'] = actual_revenues['Revenues'].iloc[-1] * (1 + forecast_revenue['y-o-y growth'])"
   ]
  },
  {
   "cell_type": "code",
   "execution_count": 332,
   "metadata": {},
   "outputs": [
    {
     "data": {
      "text/html": [
       "<div>\n",
       "<style scoped>\n",
       "    .dataframe tbody tr th:only-of-type {\n",
       "        vertical-align: middle;\n",
       "    }\n",
       "\n",
       "    .dataframe tbody tr th {\n",
       "        vertical-align: top;\n",
       "    }\n",
       "\n",
       "    .dataframe thead th {\n",
       "        text-align: right;\n",
       "    }\n",
       "</style>\n",
       "<table border=\"1\" class=\"dataframe\">\n",
       "  <thead>\n",
       "    <tr style=\"text-align: right;\">\n",
       "      <th></th>\n",
       "      <th>y-o-y growth</th>\n",
       "      <th>forecast Revenue</th>\n",
       "    </tr>\n",
       "  </thead>\n",
       "  <tbody>\n",
       "    <tr>\n",
       "      <th>2024</th>\n",
       "      <td>0.070616</td>\n",
       "      <td>2.268797e+11</td>\n",
       "    </tr>\n",
       "    <tr>\n",
       "      <th>2025</th>\n",
       "      <td>0.070616</td>\n",
       "      <td>2.429011e+11</td>\n",
       "    </tr>\n",
       "    <tr>\n",
       "      <th>2026</th>\n",
       "      <td>0.070616</td>\n",
       "      <td>2.600539e+11</td>\n",
       "    </tr>\n",
       "    <tr>\n",
       "      <th>2027</th>\n",
       "      <td>0.070616</td>\n",
       "      <td>2.784180e+11</td>\n",
       "    </tr>\n",
       "    <tr>\n",
       "      <th>2028</th>\n",
       "      <td>0.070616</td>\n",
       "      <td>2.980788e+11</td>\n",
       "    </tr>\n",
       "  </tbody>\n",
       "</table>\n",
       "</div>"
      ],
      "text/plain": [
       "      y-o-y growth  forecast Revenue\n",
       "2024      0.070616      2.268797e+11\n",
       "2025      0.070616      2.429011e+11\n",
       "2026      0.070616      2.600539e+11\n",
       "2027      0.070616      2.784180e+11\n",
       "2028      0.070616      2.980788e+11"
      ]
     },
     "execution_count": 332,
     "metadata": {},
     "output_type": "execute_result"
    }
   ],
   "source": [
    "for i in range(1, len(forecast_revenue)):\n",
    "    forecast_revenue.loc[forecast_revenue.index.min() + i,'forecast Revenue'] = forecast_revenue.loc[forecast_revenue.index.min() + i -1, 'forecast Revenue'] * (1 + forecast_revenue['y-o-y growth'].iloc[0])\n",
    "forecast_revenue"
   ]
  },
  {
   "cell_type": "markdown",
   "metadata": {},
   "source": [
    "##### Modelling Other revenues\n"
   ]
  },
  {
   "cell_type": "code",
   "execution_count": 307,
   "metadata": {},
   "outputs": [],
   "source": [
    "Income_statement['Other revenue'] = Income_statement['Total Revenue'] - Income_statement['Cost Of Revenue']"
   ]
  },
  {
   "cell_type": "code",
   "execution_count": 333,
   "metadata": {},
   "outputs": [],
   "source": [
    "revenues = pd.DataFrame(Income_statement['Other revenue'])\n",
    "revenues.index = revenues.index.year\n",
    "revenues = revenues.transpose()"
   ]
  },
  {
   "cell_type": "code",
   "execution_count": 335,
   "metadata": {},
   "outputs": [],
   "source": [
    "actual_oth_revenues = actual.copy()\n",
    "actual_oth_revenues = pd.concat([actual_oth_revenues, revenues])\n",
    "actual_oth_revenues = actual_oth_revenues.transpose()"
   ]
  },
  {
   "cell_type": "code",
   "execution_count": 339,
   "metadata": {},
   "outputs": [
    {
     "data": {
      "text/html": [
       "<div>\n",
       "<style scoped>\n",
       "    .dataframe tbody tr th:only-of-type {\n",
       "        vertical-align: middle;\n",
       "    }\n",
       "\n",
       "    .dataframe tbody tr th {\n",
       "        vertical-align: top;\n",
       "    }\n",
       "\n",
       "    .dataframe thead th {\n",
       "        text-align: right;\n",
       "    }\n",
       "</style>\n",
       "<table border=\"1\" class=\"dataframe\">\n",
       "  <thead>\n",
       "    <tr style=\"text-align: right;\">\n",
       "      <th></th>\n",
       "      <th>Other revenue</th>\n",
       "      <th>y-o-y growth</th>\n",
       "    </tr>\n",
       "  </thead>\n",
       "  <tbody>\n",
       "    <tr>\n",
       "      <th>2020</th>\n",
       "      <td>96937000000.0</td>\n",
       "      <td>NaN</td>\n",
       "    </tr>\n",
       "    <tr>\n",
       "      <th>2021</th>\n",
       "      <td>115856000000.0</td>\n",
       "      <td>0.195168</td>\n",
       "    </tr>\n",
       "    <tr>\n",
       "      <th>2022</th>\n",
       "      <td>135620000000.0</td>\n",
       "      <td>0.170591</td>\n",
       "    </tr>\n",
       "    <tr>\n",
       "      <th>2023</th>\n",
       "      <td>146052000000.0</td>\n",
       "      <td>0.076921</td>\n",
       "    </tr>\n",
       "  </tbody>\n",
       "</table>\n",
       "</div>"
      ],
      "text/plain": [
       "       Other revenue y-o-y growth\n",
       "2020   96937000000.0          NaN\n",
       "2021  115856000000.0     0.195168\n",
       "2022  135620000000.0     0.170591\n",
       "2023  146052000000.0     0.076921"
      ]
     },
     "execution_count": 339,
     "metadata": {},
     "output_type": "execute_result"
    }
   ],
   "source": [
    "actual_oth_revenues['y-o-y growth'] = actual_oth_revenues['Other revenue'].pct_change()\n",
    "actual_oth_revenues"
   ]
  },
  {
   "cell_type": "code",
   "execution_count": 340,
   "metadata": {},
   "outputs": [],
   "source": [
    "if selected_case == 1:\n",
    "    forecast['y-o-y growth'] = max(actual_oth_revenues['y-o-y growth'])\n",
    "elif selected_case == 2:\n",
    "    forecast['y-o-y growth'] = (actual_oth_revenues['y-o-y growth']).mean()\n",
    "elif selected_case == 3:\n",
    "    forecast['y-o-y growth'] = (actual_oth_revenues['y-o-y growth'].mean()) / 2"
   ]
  },
  {
   "cell_type": "code",
   "execution_count": 343,
   "metadata": {},
   "outputs": [],
   "source": [
    "forecast_oth_revenue = forecast.copy()\n",
    "forecast_oth_revenue['forecast Other Revenue'] = actual_oth_revenues['Other revenue'].iloc[-1] * (1 + forecast_oth_revenue['y-o-y growth'])"
   ]
  },
  {
   "cell_type": "code",
   "execution_count": 344,
   "metadata": {},
   "outputs": [
    {
     "data": {
      "text/html": [
       "<div>\n",
       "<style scoped>\n",
       "    .dataframe tbody tr th:only-of-type {\n",
       "        vertical-align: middle;\n",
       "    }\n",
       "\n",
       "    .dataframe tbody tr th {\n",
       "        vertical-align: top;\n",
       "    }\n",
       "\n",
       "    .dataframe thead th {\n",
       "        text-align: right;\n",
       "    }\n",
       "</style>\n",
       "<table border=\"1\" class=\"dataframe\">\n",
       "  <thead>\n",
       "    <tr style=\"text-align: right;\">\n",
       "      <th></th>\n",
       "      <th>y-o-y growth</th>\n",
       "      <th>forecast Other Revenue</th>\n",
       "    </tr>\n",
       "  </thead>\n",
       "  <tbody>\n",
       "    <tr>\n",
       "      <th>2024</th>\n",
       "      <td>0.07378</td>\n",
       "      <td>1.568277e+11</td>\n",
       "    </tr>\n",
       "    <tr>\n",
       "      <th>2025</th>\n",
       "      <td>0.07378</td>\n",
       "      <td>1.683985e+11</td>\n",
       "    </tr>\n",
       "    <tr>\n",
       "      <th>2026</th>\n",
       "      <td>0.07378</td>\n",
       "      <td>1.808229e+11</td>\n",
       "    </tr>\n",
       "    <tr>\n",
       "      <th>2027</th>\n",
       "      <td>0.07378</td>\n",
       "      <td>1.941640e+11</td>\n",
       "    </tr>\n",
       "    <tr>\n",
       "      <th>2028</th>\n",
       "      <td>0.07378</td>\n",
       "      <td>2.084894e+11</td>\n",
       "    </tr>\n",
       "  </tbody>\n",
       "</table>\n",
       "</div>"
      ],
      "text/plain": [
       "      y-o-y growth  forecast Other Revenue\n",
       "2024       0.07378            1.568277e+11\n",
       "2025       0.07378            1.683985e+11\n",
       "2026       0.07378            1.808229e+11\n",
       "2027       0.07378            1.941640e+11\n",
       "2028       0.07378            2.084894e+11"
      ]
     },
     "execution_count": 344,
     "metadata": {},
     "output_type": "execute_result"
    }
   ],
   "source": [
    "for i in range(1, len(forecast_oth_revenue)):\n",
    "    forecast_oth_revenue.loc[forecast_oth_revenue.index.min() + i,'forecast Other Revenue'] = forecast_oth_revenue.loc[forecast_oth_revenue.index.min() + i -1, 'forecast Other Revenue'] * (1 + forecast_oth_revenue['y-o-y growth'].iloc[0])\n",
    "forecast_oth_revenue"
   ]
  },
  {
   "cell_type": "code",
   "execution_count": null,
   "metadata": {},
   "outputs": [],
   "source": []
  }
 ],
 "metadata": {
  "kernelspec": {
   "display_name": "env_valuation",
   "language": "python",
   "name": "python3"
  },
  "language_info": {
   "codemirror_mode": {
    "name": "ipython",
    "version": 3
   },
   "file_extension": ".py",
   "mimetype": "text/x-python",
   "name": "python",
   "nbconvert_exporter": "python",
   "pygments_lexer": "ipython3",
   "version": "3.12.0"
  }
 },
 "nbformat": 4,
 "nbformat_minor": 2
}
