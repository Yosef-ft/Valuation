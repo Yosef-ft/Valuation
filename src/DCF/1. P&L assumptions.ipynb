{
 "cells": [
  {
   "cell_type": "code",
   "execution_count": 119,
   "metadata": {},
   "outputs": [],
   "source": [
    "import pandas as pd\n",
    "import numpy as np\n",
    "import yfinance as yf"
   ]
  },
  {
   "cell_type": "code",
   "execution_count": 120,
   "metadata": {},
   "outputs": [],
   "source": [
    "pd.set_option('future.no_silent_downcasting', True)"
   ]
  },
  {
   "cell_type": "markdown",
   "metadata": {},
   "source": [
    "#### Getting the data"
   ]
  },
  {
   "cell_type": "code",
   "execution_count": 121,
   "metadata": {},
   "outputs": [],
   "source": [
    "symbol = input(\"Enter the symbol you want to perform DCF on: \")"
   ]
  },
  {
   "cell_type": "code",
   "execution_count": 122,
   "metadata": {},
   "outputs": [],
   "source": [
    "ticker = yf.Ticker(symbol)"
   ]
  },
  {
   "cell_type": "code",
   "execution_count": 123,
   "metadata": {},
   "outputs": [],
   "source": [
    "selected_case = int(input(\"\"\"\n",
    "Choose 3 cases:\n",
    "Case 1: Optimistic case\n",
    "Case 2: Base case\n",
    "Case 3: worst case\n",
    "Enter your choice (1-3): \"\"\"))"
   ]
  },
  {
   "cell_type": "code",
   "execution_count": 124,
   "metadata": {},
   "outputs": [],
   "source": [
    "Balance_sheet = ticker.balance_sheet.transpose()\n",
    "Income_statement = ticker.income_stmt.transpose()"
   ]
  },
  {
   "cell_type": "code",
   "execution_count": 125,
   "metadata": {},
   "outputs": [],
   "source": [
    "Income_statement['Other revenue'] = Income_statement['Total Revenue'] - Income_statement['Cost Of Revenue']"
   ]
  },
  {
   "cell_type": "code",
   "execution_count": 126,
   "metadata": {},
   "outputs": [],
   "source": [
    "Income_statement['EBT'] = Income_statement['EBIT'] - Income_statement['Interest Expense'] + Income_statement['Interest Income']"
   ]
  },
  {
   "cell_type": "code",
   "execution_count": 127,
   "metadata": {},
   "outputs": [],
   "source": [
    "Income_statement['D&A'] = Income_statement['EBITDA'] - Income_statement['EBIT']"
   ]
  },
  {
   "cell_type": "code",
   "execution_count": 128,
   "metadata": {},
   "outputs": [],
   "source": [
    "Income_statement['Taxes'] = Income_statement['EBT'] - Income_statement['Net Income']"
   ]
  },
  {
   "cell_type": "markdown",
   "metadata": {},
   "source": [
    "#### P&L assumption"
   ]
  },
  {
   "cell_type": "code",
   "execution_count": 129,
   "metadata": {},
   "outputs": [],
   "source": [
    "def forecaster(models: str, year_on_year: bool) -> pd.DataFrame:\n",
    "    \"\"\"\n",
    "    Calculate the actual and forecast values for key financial metrics.\n",
    "\n",
    "    Parameters:\n",
    "    models (str): The financial models to include in the calculation, such as \"Revenue\", \"COGS\", \"D&A\", \"Operating Expense\", and \"Interest Expense\".\n",
    "    year_on_year (bool): If True, the function will calculate the year-over-year change for each metric. If False, it will calculate the % change with respect to EBT/Revenue.\n",
    "\n",
    "    Returns:\n",
    "    pd.DataFrame: A dataframe containing the actual and forecast values for the specified financial metrics.\n",
    "\n",
    "    Notes:\n",
    "    - The \"D&A\" metric represents Depreciation and Amortization, which is the difference between EBITDA and EBIT.\n",
    "    - The function assumes that the input data is from the Income Statement.\n",
    "    \"\"\"\n",
    "    actual = pd.DataFrame(columns=sorted(list(Income_statement.index.year)))\n",
    "    forecast = pd.DataFrame(columns=[x + max(list(Income_statement.index.year)) for x in range(1,6)]).transpose()\n",
    "\n",
    "    # The use of model rather than models is as a naming convention - A shorter form\n",
    "    if models == 'Revenues':\n",
    "        financial_metric  = pd.DataFrame(Income_statement['Operating Revenue']).rename({'Operating Revenue' : 'Revenues'},axis=1)\n",
    "    elif models == 'COGS':\n",
    "        model = 'Cost Of Revenue'\n",
    "        financial_metric  = pd.DataFrame(Income_statement['Cost Of Revenue'])\n",
    "    else:\n",
    "        financial_metric  = pd.DataFrame(Income_statement[models])\n",
    "    financial_metric .index = financial_metric .index.year\n",
    "    financial_metric  = financial_metric .transpose()\n",
    "\n",
    "    actual_values = actual.copy()\n",
    "    actual_values = pd.concat([actual_values, financial_metric ])\n",
    "    actual_values = actual_values.transpose()\n",
    "\n",
    "    # forecasts items using year on year growth: Revenues, Other revenues\n",
    "    if year_on_year:\n",
    "        actual_values['y-o-y growth'] = actual_values[models].pct_change()\n",
    "\n",
    "        if selected_case == 1:\n",
    "            if models == 'Interest Expense': # Becasuse the best case for an expense is minimum\n",
    "                forecast['y-o-y growth'] = min(actual_values['y-o-y growth'])\n",
    "            else:\n",
    "                forecast['y-o-y growth'] = max(actual_values['y-o-y growth'])\n",
    "        elif selected_case == 2:\n",
    "            forecast['y-o-y growth'] = (actual_values['y-o-y growth']).mean()\n",
    "        elif selected_case == 3:\n",
    "            forecast['y-o-y growth'] = (actual_values['y-o-y growth'].mean()) / 2\n",
    "\n",
    "        forecasted = forecast.copy()\n",
    "        forecasted[f'forecast {models}'] = actual_values[models].iloc[-1] * (1 + forecasted['y-o-y growth'])    \n",
    "        \n",
    "        for i in range(1, len(forecasted)):\n",
    "            forecasted.loc[forecasted.index.min() + i,f'forecast {models}'] = forecasted.loc[forecasted.index.min() + i -1, f'forecast {models}'] * (1 + forecasted['y-o-y growth'].iloc[0])\n",
    "\n",
    "        return actual_values, forecasted   \n",
    "\n",
    "    # forecasts items using % of revenue/ EBIT: COGS, Depreciation, Operating Expense\n",
    "    else:\n",
    "        revenue = pd.DataFrame(Income_statement['Operating Revenue']).sort_index()\n",
    "        revenue.index = revenue.index.year\n",
    "\n",
    "\n",
    "        try: \n",
    "            if models == 'Taxes':\n",
    "                actual_values['% of EBT'] = actual_values[model] / Income_statement['EBT'].sort_index().values\n",
    "            else:\n",
    "                actual_values['% of revenue'] = actual_values[model] / revenue['Operating Revenue']    \n",
    "        except Exception as e:\n",
    "            if models == 'Taxes':\n",
    "                actual_values['% of EBT'] = actual_values[models] / Income_statement['EBT'].sort_index().values\n",
    "            else:\n",
    "                actual_values['% of revenue'] = actual_values[models] / revenue['Operating Revenue']\n",
    "\n",
    "        pct_type = 'EBT' if models == 'Taxes' else 'revenue'            \n",
    "\n",
    "        if selected_case == 1:\n",
    "            forecast[f'% of {pct_type}'] = min(actual_values[f'% of {pct_type}'])\n",
    "        elif selected_case == 2:\n",
    "            forecast[f'% of {pct_type}'] = (actual_values[f'% of {pct_type}']).mean()\n",
    "        elif selected_case == 3:\n",
    "            forecast[f'% of {pct_type}'] = (actual_values[f'% of {pct_type}'].mean()) / 2   \n",
    "\n",
    "        if models == 'Taxes':\n",
    "            forecasted = forecast.copy()  \n",
    "            forecasted['Taxes'] = 0 # come back after balance sheet assumptions\n",
    "        else:\n",
    "            forecasted = forecast.copy()\n",
    "            actual_revenue, forecast_revenue = forecaster('Revenues', True)\n",
    "            forecasted[f'forecast {models}'] = forecast_revenue['forecast Revenues'] * forecasted[f'% of {pct_type}']         \n",
    "    \n",
    "        return actual_values, forecasted     "
   ]
  },
  {
   "cell_type": "markdown",
   "metadata": {},
   "source": [
    "##### Modeling Revenue from sales and services"
   ]
  },
  {
   "cell_type": "code",
   "execution_count": 130,
   "metadata": {},
   "outputs": [
    {
     "data": {
      "text/html": [
       "<div>\n",
       "<style scoped>\n",
       "    .dataframe tbody tr th:only-of-type {\n",
       "        vertical-align: middle;\n",
       "    }\n",
       "\n",
       "    .dataframe tbody tr th {\n",
       "        vertical-align: top;\n",
       "    }\n",
       "\n",
       "    .dataframe thead th {\n",
       "        text-align: right;\n",
       "    }\n",
       "</style>\n",
       "<table border=\"1\" class=\"dataframe\">\n",
       "  <thead>\n",
       "    <tr style=\"text-align: right;\">\n",
       "      <th></th>\n",
       "      <th>y-o-y growth</th>\n",
       "      <th>forecast Revenues</th>\n",
       "    </tr>\n",
       "  </thead>\n",
       "  <tbody>\n",
       "    <tr>\n",
       "      <th>2024</th>\n",
       "      <td>0.141233</td>\n",
       "      <td>2.418443e+11</td>\n",
       "    </tr>\n",
       "    <tr>\n",
       "      <th>2025</th>\n",
       "      <td>0.141233</td>\n",
       "      <td>2.760007e+11</td>\n",
       "    </tr>\n",
       "    <tr>\n",
       "      <th>2026</th>\n",
       "      <td>0.141233</td>\n",
       "      <td>3.149810e+11</td>\n",
       "    </tr>\n",
       "    <tr>\n",
       "      <th>2027</th>\n",
       "      <td>0.141233</td>\n",
       "      <td>3.594667e+11</td>\n",
       "    </tr>\n",
       "    <tr>\n",
       "      <th>2028</th>\n",
       "      <td>0.141233</td>\n",
       "      <td>4.102351e+11</td>\n",
       "    </tr>\n",
       "  </tbody>\n",
       "</table>\n",
       "</div>"
      ],
      "text/plain": [
       "      y-o-y growth  forecast Revenues\n",
       "2024      0.141233       2.418443e+11\n",
       "2025      0.141233       2.760007e+11\n",
       "2026      0.141233       3.149810e+11\n",
       "2027      0.141233       3.594667e+11\n",
       "2028      0.141233       4.102351e+11"
      ]
     },
     "execution_count": 130,
     "metadata": {},
     "output_type": "execute_result"
    }
   ],
   "source": [
    "actual_revenue, forecast_revenue = forecaster('Revenues', True)\n",
    "forecast_revenue.to_csv('Data/Forecast_Revenue.csv')\n",
    "forecast_revenue"
   ]
  },
  {
   "cell_type": "markdown",
   "metadata": {},
   "source": [
    "##### Modeling Other revenues\n"
   ]
  },
  {
   "cell_type": "code",
   "execution_count": 131,
   "metadata": {},
   "outputs": [
    {
     "data": {
      "text/html": [
       "<div>\n",
       "<style scoped>\n",
       "    .dataframe tbody tr th:only-of-type {\n",
       "        vertical-align: middle;\n",
       "    }\n",
       "\n",
       "    .dataframe tbody tr th {\n",
       "        vertical-align: top;\n",
       "    }\n",
       "\n",
       "    .dataframe thead th {\n",
       "        text-align: right;\n",
       "    }\n",
       "</style>\n",
       "<table border=\"1\" class=\"dataframe\">\n",
       "  <thead>\n",
       "    <tr style=\"text-align: right;\">\n",
       "      <th></th>\n",
       "      <th>y-o-y growth</th>\n",
       "      <th>forecast Other revenue</th>\n",
       "    </tr>\n",
       "  </thead>\n",
       "  <tbody>\n",
       "    <tr>\n",
       "      <th>2024</th>\n",
       "      <td>0.14756</td>\n",
       "      <td>1.676034e+11</td>\n",
       "    </tr>\n",
       "    <tr>\n",
       "      <th>2025</th>\n",
       "      <td>0.14756</td>\n",
       "      <td>1.923350e+11</td>\n",
       "    </tr>\n",
       "    <tr>\n",
       "      <th>2026</th>\n",
       "      <td>0.14756</td>\n",
       "      <td>2.207159e+11</td>\n",
       "    </tr>\n",
       "    <tr>\n",
       "      <th>2027</th>\n",
       "      <td>0.14756</td>\n",
       "      <td>2.532848e+11</td>\n",
       "    </tr>\n",
       "    <tr>\n",
       "      <th>2028</th>\n",
       "      <td>0.14756</td>\n",
       "      <td>2.906594e+11</td>\n",
       "    </tr>\n",
       "  </tbody>\n",
       "</table>\n",
       "</div>"
      ],
      "text/plain": [
       "      y-o-y growth  forecast Other revenue\n",
       "2024       0.14756            1.676034e+11\n",
       "2025       0.14756            1.923350e+11\n",
       "2026       0.14756            2.207159e+11\n",
       "2027       0.14756            2.532848e+11\n",
       "2028       0.14756            2.906594e+11"
      ]
     },
     "execution_count": 131,
     "metadata": {},
     "output_type": "execute_result"
    }
   ],
   "source": [
    "actual_oth_revenue, forecast_oth_revenue = forecaster('Other revenue',True)\n",
    "forecast_oth_revenue"
   ]
  },
  {
   "cell_type": "markdown",
   "metadata": {},
   "source": [
    "##### Modeling Cost of goods sold"
   ]
  },
  {
   "cell_type": "code",
   "execution_count": 132,
   "metadata": {},
   "outputs": [
    {
     "data": {
      "text/html": [
       "<div>\n",
       "<style scoped>\n",
       "    .dataframe tbody tr th:only-of-type {\n",
       "        vertical-align: middle;\n",
       "    }\n",
       "\n",
       "    .dataframe tbody tr th {\n",
       "        vertical-align: top;\n",
       "    }\n",
       "\n",
       "    .dataframe thead th {\n",
       "        text-align: right;\n",
       "    }\n",
       "</style>\n",
       "<table border=\"1\" class=\"dataframe\">\n",
       "  <thead>\n",
       "    <tr style=\"text-align: right;\">\n",
       "      <th></th>\n",
       "      <th>% of revenue</th>\n",
       "      <th>forecast COGS</th>\n",
       "    </tr>\n",
       "  </thead>\n",
       "  <tbody>\n",
       "    <tr>\n",
       "      <th>2024</th>\n",
       "      <td>0.314929</td>\n",
       "      <td>7.616370e+10</td>\n",
       "    </tr>\n",
       "    <tr>\n",
       "      <th>2025</th>\n",
       "      <td>0.314929</td>\n",
       "      <td>8.692051e+10</td>\n",
       "    </tr>\n",
       "    <tr>\n",
       "      <th>2026</th>\n",
       "      <td>0.314929</td>\n",
       "      <td>9.919653e+10</td>\n",
       "    </tr>\n",
       "    <tr>\n",
       "      <th>2027</th>\n",
       "      <td>0.314929</td>\n",
       "      <td>1.132063e+11</td>\n",
       "    </tr>\n",
       "    <tr>\n",
       "      <th>2028</th>\n",
       "      <td>0.314929</td>\n",
       "      <td>1.291948e+11</td>\n",
       "    </tr>\n",
       "  </tbody>\n",
       "</table>\n",
       "</div>"
      ],
      "text/plain": [
       "      % of revenue  forecast COGS\n",
       "2024      0.314929   7.616370e+10\n",
       "2025      0.314929   8.692051e+10\n",
       "2026      0.314929   9.919653e+10\n",
       "2027      0.314929   1.132063e+11\n",
       "2028      0.314929   1.291948e+11"
      ]
     },
     "execution_count": 132,
     "metadata": {},
     "output_type": "execute_result"
    }
   ],
   "source": [
    "actual_Cogs, forecast_Cogs = forecaster('COGS', False)\n",
    "forecast_Cogs.to_csv('Data/forecast_COGS.csv')\n",
    "forecast_Cogs"
   ]
  },
  {
   "cell_type": "markdown",
   "metadata": {},
   "source": [
    "##### Modeling Depreciation and Amortizaiton"
   ]
  },
  {
   "cell_type": "code",
   "execution_count": 133,
   "metadata": {},
   "outputs": [
    {
     "data": {
      "text/html": [
       "<div>\n",
       "<style scoped>\n",
       "    .dataframe tbody tr th:only-of-type {\n",
       "        vertical-align: middle;\n",
       "    }\n",
       "\n",
       "    .dataframe tbody tr th {\n",
       "        vertical-align: top;\n",
       "    }\n",
       "\n",
       "    .dataframe thead th {\n",
       "        text-align: right;\n",
       "    }\n",
       "</style>\n",
       "<table border=\"1\" class=\"dataframe\">\n",
       "  <thead>\n",
       "    <tr style=\"text-align: right;\">\n",
       "      <th></th>\n",
       "      <th>% of revenue</th>\n",
       "      <th>forecast D&amp;A</th>\n",
       "    </tr>\n",
       "  </thead>\n",
       "  <tbody>\n",
       "    <tr>\n",
       "      <th>2024</th>\n",
       "      <td>0.074334</td>\n",
       "      <td>1.797722e+10</td>\n",
       "    </tr>\n",
       "    <tr>\n",
       "      <th>2025</th>\n",
       "      <td>0.074334</td>\n",
       "      <td>2.051619e+10</td>\n",
       "    </tr>\n",
       "    <tr>\n",
       "      <th>2026</th>\n",
       "      <td>0.074334</td>\n",
       "      <td>2.341375e+10</td>\n",
       "    </tr>\n",
       "    <tr>\n",
       "      <th>2027</th>\n",
       "      <td>0.074334</td>\n",
       "      <td>2.672054e+10</td>\n",
       "    </tr>\n",
       "    <tr>\n",
       "      <th>2028</th>\n",
       "      <td>0.074334</td>\n",
       "      <td>3.049436e+10</td>\n",
       "    </tr>\n",
       "  </tbody>\n",
       "</table>\n",
       "</div>"
      ],
      "text/plain": [
       "      % of revenue  forecast D&A\n",
       "2024      0.074334  1.797722e+10\n",
       "2025      0.074334  2.051619e+10\n",
       "2026      0.074334  2.341375e+10\n",
       "2027      0.074334  2.672054e+10\n",
       "2028      0.074334  3.049436e+10"
      ]
     },
     "execution_count": 133,
     "metadata": {},
     "output_type": "execute_result"
    }
   ],
   "source": [
    "actual_Depreciation, forecast_Depreciation = forecaster('D&A', False)\n",
    "forecast_Depreciation"
   ]
  },
  {
   "cell_type": "markdown",
   "metadata": {},
   "source": [
    "##### Modeling Operating Expense"
   ]
  },
  {
   "cell_type": "code",
   "execution_count": 134,
   "metadata": {},
   "outputs": [
    {
     "data": {
      "text/html": [
       "<div>\n",
       "<style scoped>\n",
       "    .dataframe tbody tr th:only-of-type {\n",
       "        vertical-align: middle;\n",
       "    }\n",
       "\n",
       "    .dataframe tbody tr th {\n",
       "        vertical-align: top;\n",
       "    }\n",
       "\n",
       "    .dataframe thead th {\n",
       "        text-align: right;\n",
       "    }\n",
       "</style>\n",
       "<table border=\"1\" class=\"dataframe\">\n",
       "  <thead>\n",
       "    <tr style=\"text-align: right;\">\n",
       "      <th></th>\n",
       "      <th>% of revenue</th>\n",
       "      <th>forecast Operating Expense</th>\n",
       "    </tr>\n",
       "  </thead>\n",
       "  <tbody>\n",
       "    <tr>\n",
       "      <th>2024</th>\n",
       "      <td>0.278938</td>\n",
       "      <td>6.745954e+10</td>\n",
       "    </tr>\n",
       "    <tr>\n",
       "      <th>2025</th>\n",
       "      <td>0.278938</td>\n",
       "      <td>7.698704e+10</td>\n",
       "    </tr>\n",
       "    <tr>\n",
       "      <th>2026</th>\n",
       "      <td>0.278938</td>\n",
       "      <td>8.786013e+10</td>\n",
       "    </tr>\n",
       "    <tr>\n",
       "      <th>2027</th>\n",
       "      <td>0.278938</td>\n",
       "      <td>1.002689e+11</td>\n",
       "    </tr>\n",
       "    <tr>\n",
       "      <th>2028</th>\n",
       "      <td>0.278938</td>\n",
       "      <td>1.144301e+11</td>\n",
       "    </tr>\n",
       "  </tbody>\n",
       "</table>\n",
       "</div>"
      ],
      "text/plain": [
       "      % of revenue  forecast Operating Expense\n",
       "2024      0.278938                6.745954e+10\n",
       "2025      0.278938                7.698704e+10\n",
       "2026      0.278938                8.786013e+10\n",
       "2027      0.278938                1.002689e+11\n",
       "2028      0.278938                1.144301e+11"
      ]
     },
     "execution_count": 134,
     "metadata": {},
     "output_type": "execute_result"
    }
   ],
   "source": [
    "actual_Expense, forecast_Expense = forecaster('Operating Expense', False)\n",
    "forecast_Expense"
   ]
  },
  {
   "cell_type": "markdown",
   "metadata": {},
   "source": [
    "##### Modeling Interest Expense"
   ]
  },
  {
   "cell_type": "code",
   "execution_count": 135,
   "metadata": {},
   "outputs": [
    {
     "data": {
      "text/html": [
       "<div>\n",
       "<style scoped>\n",
       "    .dataframe tbody tr th:only-of-type {\n",
       "        vertical-align: middle;\n",
       "    }\n",
       "\n",
       "    .dataframe tbody tr th {\n",
       "        vertical-align: top;\n",
       "    }\n",
       "\n",
       "    .dataframe thead th {\n",
       "        text-align: right;\n",
       "    }\n",
       "</style>\n",
       "<table border=\"1\" class=\"dataframe\">\n",
       "  <thead>\n",
       "    <tr style=\"text-align: right;\">\n",
       "      <th></th>\n",
       "      <th>y-o-y growth</th>\n",
       "      <th>forecast Interest Expense</th>\n",
       "    </tr>\n",
       "  </thead>\n",
       "  <tbody>\n",
       "    <tr>\n",
       "      <th>2024</th>\n",
       "      <td>-0.087079</td>\n",
       "      <td>1.796628e+09</td>\n",
       "    </tr>\n",
       "    <tr>\n",
       "      <th>2025</th>\n",
       "      <td>-0.087079</td>\n",
       "      <td>1.640178e+09</td>\n",
       "    </tr>\n",
       "    <tr>\n",
       "      <th>2026</th>\n",
       "      <td>-0.087079</td>\n",
       "      <td>1.497352e+09</td>\n",
       "    </tr>\n",
       "    <tr>\n",
       "      <th>2027</th>\n",
       "      <td>-0.087079</td>\n",
       "      <td>1.366964e+09</td>\n",
       "    </tr>\n",
       "    <tr>\n",
       "      <th>2028</th>\n",
       "      <td>-0.087079</td>\n",
       "      <td>1.247929e+09</td>\n",
       "    </tr>\n",
       "  </tbody>\n",
       "</table>\n",
       "</div>"
      ],
      "text/plain": [
       "      y-o-y growth  forecast Interest Expense\n",
       "2024     -0.087079               1.796628e+09\n",
       "2025     -0.087079               1.640178e+09\n",
       "2026     -0.087079               1.497352e+09\n",
       "2027     -0.087079               1.366964e+09\n",
       "2028     -0.087079               1.247929e+09"
      ]
     },
     "execution_count": 135,
     "metadata": {},
     "output_type": "execute_result"
    }
   ],
   "source": [
    "actual_Interest, forecast_Interest = forecaster('Interest Expense', True)\n",
    "forecast_Interest"
   ]
  },
  {
   "cell_type": "markdown",
   "metadata": {},
   "source": [
    "##### Modeling Taxes"
   ]
  },
  {
   "cell_type": "code",
   "execution_count": 136,
   "metadata": {},
   "outputs": [
    {
     "data": {
      "text/html": [
       "<div>\n",
       "<style scoped>\n",
       "    .dataframe tbody tr th:only-of-type {\n",
       "        vertical-align: middle;\n",
       "    }\n",
       "\n",
       "    .dataframe tbody tr th {\n",
       "        vertical-align: top;\n",
       "    }\n",
       "\n",
       "    .dataframe thead th {\n",
       "        text-align: right;\n",
       "    }\n",
       "</style>\n",
       "<table border=\"1\" class=\"dataframe\">\n",
       "  <thead>\n",
       "    <tr style=\"text-align: right;\">\n",
       "      <th></th>\n",
       "      <th>% of EBT</th>\n",
       "      <th>Taxes</th>\n",
       "    </tr>\n",
       "  </thead>\n",
       "  <tbody>\n",
       "    <tr>\n",
       "      <th>2024</th>\n",
       "      <td>0.184245</td>\n",
       "      <td>0</td>\n",
       "    </tr>\n",
       "    <tr>\n",
       "      <th>2025</th>\n",
       "      <td>0.184245</td>\n",
       "      <td>0</td>\n",
       "    </tr>\n",
       "    <tr>\n",
       "      <th>2026</th>\n",
       "      <td>0.184245</td>\n",
       "      <td>0</td>\n",
       "    </tr>\n",
       "    <tr>\n",
       "      <th>2027</th>\n",
       "      <td>0.184245</td>\n",
       "      <td>0</td>\n",
       "    </tr>\n",
       "    <tr>\n",
       "      <th>2028</th>\n",
       "      <td>0.184245</td>\n",
       "      <td>0</td>\n",
       "    </tr>\n",
       "  </tbody>\n",
       "</table>\n",
       "</div>"
      ],
      "text/plain": [
       "      % of EBT  Taxes\n",
       "2024  0.184245      0\n",
       "2025  0.184245      0\n",
       "2026  0.184245      0\n",
       "2027  0.184245      0\n",
       "2028  0.184245      0"
      ]
     },
     "execution_count": 136,
     "metadata": {},
     "output_type": "execute_result"
    }
   ],
   "source": [
    "actual_taxes, forecast_taxes = forecaster('Taxes', False)\n",
    "forecast_taxes"
   ]
  }
 ],
 "metadata": {
  "kernelspec": {
   "display_name": "env_valuation",
   "language": "python",
   "name": "python3"
  },
  "language_info": {
   "codemirror_mode": {
    "name": "ipython",
    "version": 3
   },
   "file_extension": ".py",
   "mimetype": "text/x-python",
   "name": "python",
   "nbconvert_exporter": "python",
   "pygments_lexer": "ipython3",
   "version": "3.12.0"
  }
 },
 "nbformat": 4,
 "nbformat_minor": 2
}
